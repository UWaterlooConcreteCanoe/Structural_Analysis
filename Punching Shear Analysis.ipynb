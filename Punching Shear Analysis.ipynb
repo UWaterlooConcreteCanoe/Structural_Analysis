{
 "cells": [
  {
   "cell_type": "code",
   "execution_count": 3,
   "id": "played-river",
   "metadata": {},
   "outputs": [
    {
     "ename": "ModuleNotFoundError",
     "evalue": "No module named 'pandas'",
     "output_type": "error",
     "traceback": [
      "\u001b[0;31m---------------------------------------------------------------------------\u001b[0m",
      "\u001b[0;31mModuleNotFoundError\u001b[0m                       Traceback (most recent call last)",
      "Cell \u001b[0;32mIn[3], line 2\u001b[0m\n\u001b[1;32m      1\u001b[0m \u001b[38;5;28;01mimport\u001b[39;00m \u001b[38;5;21;01mos\u001b[39;00m\n\u001b[0;32m----> 2\u001b[0m \u001b[38;5;28;01mimport\u001b[39;00m \u001b[38;5;21;01mpandas\u001b[39;00m \u001b[38;5;28;01mas\u001b[39;00m \u001b[38;5;21;01mpd\u001b[39;00m\n\u001b[1;32m      3\u001b[0m \u001b[38;5;28;01mimport\u001b[39;00m \u001b[38;5;21;01mnumpy\u001b[39;00m \u001b[38;5;28;01mas\u001b[39;00m \u001b[38;5;21;01mnp\u001b[39;00m\n\u001b[1;32m      5\u001b[0m \u001b[38;5;66;03m#-------------------Inputs-------------------------------------------------------------\u001b[39;00m\n",
      "\u001b[0;31mModuleNotFoundError\u001b[0m: No module named 'pandas'"
     ]
    }
   ],
   "source": [
    "import os\n",
    "import pandas as pd\n",
    "import numpy as np\n",
    "\n",
    "#-------------------Inputs-------------------------------------------------------------\n",
    "paddler_mass = 81.64 # Max paddler mass [kg]\n",
    "g = 9.81 # Gravity [m/s^2]\n",
    "paddler_weight = paddler_mass*g # Max paddler weight [N]\n",
    "safety_factor = 1.2\n",
    "fac_weight = safety_factor*paddler_weight # Factored Weight [N]\n",
    "A = 50 # Punching area length [mm]\n",
    "B = 50 # Punching area width [mm]\n",
    "layer1 = 1 # if layer exists, it equals to 1. Otherwise, zero.\n",
    "layer2 = 0 # if layer exists, it equals to 1. Otherwise, zero.\n",
    "d_mesh_1 = 2 # distance b/w the first layer of reinforcement to the surface [mm]\n",
    "d_mesh_2 = 5 # distance b/w the second layer of reinforcement to the surface [mm]\n",
    "f_c = 4.9 # Compressive strength of concrete [MPa] (TODO: try tensile)\n",
    "lamda = 0.75 # Factor to account for lower tensile strength of low-density concrete\n",
    "fi_c = 0.65 # Safety factor for concrete\n",
    "alpha_s = 4 # As per CSA A23.3-14 CL 13.3.4.1 (13-7)\n",
    "#--------------------------------------------------------------------------------------\n",
    "\n",
    "# Set d to the midpoint between the two layers of reinforcement\n",
    "# If there is no second layer, d = location of the first layer\n",
    "if layer2 == 0:\n",
    "    d = d_mesh_1\n",
    "else:\n",
    "    d = (d_mesh_1+d_mesh_2)/2\n",
    "\n",
    "# Calculate the area\n",
    "# NOTE: This calculation feels wrong (redundant multip and div), double check <?>\n",
    "b0 = 2*(A+B)+8*d/2 # [mm]\n",
    "area = d*b0 # [mm^2]\n",
    "\n",
    "# Ratio of long side (A) to short side (B) of a column section\n",
    "beta_c = A/B\n",
    "if beta_c<1:\n",
    "    print('Warning: Beta_c is smaller than one.')\n",
    "\n",
    "# Shear stresses resisted\n",
    "Vc_1 = (1+2/beta_c)*0.2*lamda*fi_c*np.sqrt(f_c)    \n",
    "Vc_2 = ((alpha_s*d/b0)+0.19)*lamda*fi_c*np.sqrt(f_c)\n",
    "Vc_3 = 0.38*lamda*fi_c*np.sqrt(f_c)\n",
    "Vc = min(Vc_1, Vc_2, Vc_3)\n",
    "\n",
    "# Shear stresses applied\n",
    "Vf = fac_weight/area\n",
    "\n",
    "if Vc>=Vf:\n",
    "    print('The design is good for punching shear.')\n",
    "else:\n",
    "    print('The design needs to be re-done for punching shear.')\n"
   ]
  },
  {
   "cell_type": "code",
   "execution_count": null,
   "id": "emerging-rhythm",
   "metadata": {},
   "outputs": [],
   "source": []
  }
 ],
 "metadata": {
  "kernelspec": {
   "display_name": "Python 3.9.6 64-bit",
   "language": "python",
   "name": "python3"
  },
  "language_info": {
   "codemirror_mode": {
    "name": "ipython",
    "version": 3
   },
   "file_extension": ".py",
   "mimetype": "text/x-python",
   "name": "python",
   "nbconvert_exporter": "python",
   "pygments_lexer": "ipython3",
   "version": "3.9.6"
  },
  "vscode": {
   "interpreter": {
    "hash": "31f2aee4e71d21fbe5cf8b01ff0e069b9275f58929596ceb00d14d90e3e16cd6"
   }
  }
 },
 "nbformat": 4,
 "nbformat_minor": 5
}
