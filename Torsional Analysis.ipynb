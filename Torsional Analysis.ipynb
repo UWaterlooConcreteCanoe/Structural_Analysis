{
 "cells": [
  {
   "cell_type": "code",
   "execution_count": 39,
   "metadata": {},
   "outputs": [
    {
     "name": "stdout",
     "output_type": "stream",
     "text": [
      "57\n",
      "[   0.        102.678571  205.357143  308.035714  410.714286  513.392857\n",
      "  616.071429  718.75      821.428571  924.107143 1026.785714 1129.464286\n",
      " 1232.142857 1334.821429 1437.5      1540.178571 1642.857143 1745.535714\n",
      " 1848.214286 1950.892857 2053.571429 2156.25     2258.928571 2361.607143\n",
      " 2464.285714 2566.964286 2669.642857 2772.321429 2875.       2977.678571\n",
      " 3080.357143 3183.035714 3285.714286 3388.392857 3491.071429 3593.75\n",
      " 3696.428571 3799.107143 3901.785714 4004.464286 4107.142857 4209.821429\n",
      " 4312.5      4415.178571 4517.857143 4620.535714 4723.214286 4825.892857\n",
      " 4928.571429 5031.25     5133.928571 5236.607143 5339.285714 5441.964286\n",
      " 5544.642857 5647.321429 5750.      ]\n"
     ]
    }
   ],
   "source": [
    "import os\n",
    "import pandas as pd\n",
    "import numpy as np\n",
    "import matplotlib.pyplot as plt\n",
    "\n",
    "# Select the load case\n",
    "input_file = \"Shear_and_Moment_6 Paddlers.csv\" # or \"Shear_and_Moment_2 Paddlers.csv\"\n",
    "\n",
    "script_dir = os.path.abspath('data')\n",
    "file_path = os.path.join(script_dir, input_file)\n",
    "info = pd.read_csv(file_path, header=None)\n",
    "\n",
    "import os\n",
    "import pandas as pd\n",
    "import numpy as np\n",
    "import matplotlib.pyplot as plt\n",
    "import _canoeValues as cv\n",
    "\n",
    "#-------------------Inputs-------------------------------------------------------------\n",
    "script = \"Longitudinal Analysis_6 Paddler.ipynb\"\n",
    "input_file = \"Station Information.csv\"\n",
    "outerHull_file = \"Outer Hull.csv\" # Will be used for hydrostatic force and waterline calculation\n",
    "# DLF = 1.25 # Dead Load Factor\n",
    "# LLF = 1.5 # Live Load Factor\n",
    "# pad_male = 163.28 # Weight of male padder (kg)\n",
    "# pad_female = 68.03 # Weight of female paddler (kg)\n",
    "# water_den = 1000 # Density of water = 1000 kg/m^3\n",
    "#--------------------------------------------------------------------------------------\n",
    "\n",
    "script_dir = os.path.abspath('data')# absolute file path in Jupyter\n",
    "file_path = os.path.join(script_dir, input_file) # file path for the text file input\n",
    "canoe_info = pd.read_csv(file_path, header=None)\n",
    "statVol = canoe_info[1][1:]\n",
    "statMass = canoe_info[2]\n",
    "\n",
    "file_path = os.path.join(script_dir, outerHull_file) # file path for the text file input\n",
    "out_coor = pd.read_csv(file_path, header=None)\n",
    "x_out = out_coor[0]\n",
    "y_out = out_coor[1]\n",
    "z_out = out_coor[2]\n",
    "\n",
    "station_no = x_out.nunique() # number of stations\n",
    "station = x_out.unique() # location of each station\n",
    "\n",
    "print(station_no)\n",
    "print(station)"
   ]
  },
  {
   "cell_type": "code",
   "execution_count": null,
   "metadata": {},
   "outputs": [
    {
     "name": "stdout",
     "output_type": "stream",
     "text": [
      "[179237.15866666666, 241341.64666666664, 266777.229, 283608.06799999997, 297237.5129999999, 309425.86733333336, 320723.6013333333, 331298.2253333333, 341202.304, 350455.97866666666, 359071.0003333333, 367057.32999999996, 374424.86, 381183.86066666665, 387345.1273333333, 392920.0726666666, 397920.81866666663, 402360.31033333327, 406252.4593333333, 409612.3339999999, 412456.412, 414802.93600000005, 416672.43700000003, 418088.5543333334, 419079.46233333333, 419680.7893333333, 419944.551, 419944.551, 419680.7893333333, 419079.46233333333, 418088.5543333334, 416672.43700000003, 414802.93600000005, 412456.412, 409612.3339999999, 406252.4593333333, 402360.31033333327, 397920.81866666663, 392920.0726666666, 387345.1273333333, 381183.86066666665, 374424.86, 367057.32999999996, 359071.0003333333, 350455.97866666666, 341202.304, 331298.2253333333, 320723.6013333333, 309425.86733333336, 297237.5129999999, 283608.06799999997, 266777.229, 241341.64666666664, 179237.15866666666]\n",
      "[3943217.490666667, 5309516.226666667, 5869099.038000001, 6239377.495999999, 6539225.285999998, 6807369.081333335, 7055919.229333334, 7288560.957333334, 7506450.688000001, 7710031.530666667, 7899562.007333333, 8075261.26, 8237346.92, 8386044.934666667, 8521592.801333332, 8644241.598666666, 8754258.010666667, 8851926.827333333, 8937554.105333334, 9011471.348, 9074041.064000001, 9125664.592000002, 9166793.614000002, 9197948.195333336, 9219748.171333333, 9232977.365333334, 9238780.122, 9238780.122, 9232977.365333334, 9219748.171333333, 9197948.195333336, 9166793.614000002, 9125664.592000002, 9074041.064000001, 9011471.348, 8937554.105333334, 8851926.827333333, 8754258.010666667, 8644241.598666666, 8521592.801333332, 8386044.934666667, 8237346.92, 8075261.26, 7899562.007333333, 7710031.530666667, 7506450.688000001, 7288560.957333334, 7055919.229333334, 6807369.081333335, 6539225.285999998, 6239377.495999999, 5869099.038000001, 5309516.226666667, 3943217.490666667]\n"
     ]
    },
    {
     "data": {
      "image/png": "[encoded data removed]",
      "text/plain": [
       "<Figure size 640x480 with 1 Axes>"
      ]
     },
     "metadata": {},
     "output_type": "display_data"
    }
   ],
   "source": [
    "#Thin Rectangle Torsion Analysis\n",
    "\n",
    "J = []\n",
    "\n",
    "# Loop through stations in outer hull\n",
    "for k in range(1,station_no-2):\n",
    "\n",
    "    # Coordinates of points in the outer frame sharing an X-coordinate with the current station\n",
    "    X1_value = station[k]\n",
    "    Y1 = []\n",
    "    Z1 = []\n",
    "\n",
    "    # Coordinates of points in the outer frame sharing an X-coordinate with the next station\n",
    "    X2_value = station[k+1]\n",
    "    Y2 = []\n",
    "    Z2 = []\n",
    "\n",
    "    # Loop through each x coordinate in the inner hull\n",
    "    for i in range(0,len(x_out),1):\n",
    "\n",
    "        # If the coordinate is aligned with the second station on the X-axis, store this XYZ coordinate\n",
    "        if x_out[i] == X1_value:\n",
    "            Y1.append(y_out[i])\n",
    "            Z1.append(z_out[i])\n",
    "\n",
    "        # Otherwise, if the coordinate is aligned with the second station on the X-axis, store this XYZ coordinate\n",
    "        elif x_out[i] == X2_value:\n",
    "            Y2.append(y_out[i])\n",
    "            Z2.append(z_out[i])\n",
    "\n",
    "    # Now we have the coords of the outer station\n",
    "    stationWidth = abs((max(Y1) + max(Y2))/2 - (min(Y1) + min(Y2))/2)\n",
    "    stationDepth = abs((max(Z1) + max(Z2))/2 - (min(Z1) + min(Z2))/2)\n",
    "    concretethickness = cv.concrete_thickness\n",
    "\n",
    "\n",
    "    #LHS\n",
    "    J_LHS = (stationDepth-concretethickness/2)*(concretethickness**3) # mm^4\n",
    "    #Bottom\n",
    "    J_Bottom = (stationWidth-concretethickness)*(concretethickness**3) # mm^4\n",
    "    #RHS\n",
    "    J_RHS = (stationDepth-concretethickness/2)*(concretethickness**3) # mm^4\n",
    "\n",
    "    #Polar Moment of Inertia\n",
    "    J.append((1/3)*(J_LHS+J_Bottom+J_RHS)) #mm^4\n",
    "\n",
    "print(J)\n",
    "\n",
    "T = [0, 0, 0, 0, 0, 0, 0, 0, 0, 0, 0, 0, 0, 0, 0, 0, 0, 0, 630986.8465689991, 630986.8465689991, 630986.8465689991, 630986.8465689991, 630986.8465689991, 630986.8465689991, 630986.8465689991, 630986.8465689991, 630986.8465689991, 630986.8465689991, 630986.8465689991, 630986.8465689991, 630986.8465689991, 630986.8465689991, 630986.8465689991, 630986.8465689991, 630986.8465689991, 630986.8465689991, 630986.8465689991, 630986.8465689991, 630986.8465689991, 630986.8465689991, 630986.8465689991, 630986.8465689991, 630986.8465689991, 630986.8465689991, 630986.8465689991, 630986.8465689991, 630986.8465689991, 0, 0, 0, 0, 0, 0, 0, 0, 0]\n",
    "\n",
    "torsionalStress = []\n",
    "for i in range(1, station_no-2, 1):\n",
    "    torsionalStress.append(T[i]/J[i-1] * concretethickness) # (N*mm / mm^4) * mm => N/mm^2\n",
    "\n",
    "T_max_station = [0.2 * cv.compressive_strength * x * concretethickness for x in J] # N/mm^2 * mm^4 * mm = N*mm^3\n",
    "print(T_max_station)\n",
    "\n",
    "plt.plot(range(len(T_max_station)), T_max_station)\n",
    "plt.title('')\n",
    "plt.xlabel('')\n",
    "plt.ylabel('')\n",
    "plt.show()\n",
    "\n",
    "# plt.plot(range(len(torsionalStress)), torsionalStress)\n",
    "# plt.title('')\n",
    "# plt.xlabel('x (stations)')\n",
    "# plt.ylabel('(N/mm^2 = MPa)')\n",
    "# plt.show()"
   ]
  },
  {
   "cell_type": "markdown",
   "metadata": {},
   "source": [
    "# This script just prints values calculated in the load case script"
   ]
  },
  {
   "cell_type": "code",
   "execution_count": 41,
   "metadata": {},
   "outputs": [
    {
     "name": "stdout",
     "output_type": "stream",
     "text": [
      "Tortional Resistance: 387.3378900845146 Nm\n",
      "533.762456\n"
     ]
    }
   ],
   "source": [
    "# Positive Shear\n",
    "value = float(info[1][1])\n",
    "width = float(info[3][1])\n",
    "\n",
    "torsion_resistance_positive = value * width/1000 # Nm\n",
    "print(\"Tortional Resistance: \" + str(torsion_resistance_positive) + \" Nm\")\n",
    "print(width)"
   ]
  },
  {
   "cell_type": "code",
   "execution_count": 42,
   "metadata": {},
   "outputs": [
    {
     "name": "stdout",
     "output_type": "stream",
     "text": [
      "Tortional Resistance: -387.3378900845149 Nm\n",
      "533.762456\n"
     ]
    }
   ],
   "source": [
    "# Negative Shear\n",
    "value = float(info[1][2])\n",
    "width = float(info[3][2])\n",
    "\n",
    "torsion_resistance_negative = value * width/1000 # Nm\n",
    "print(\"Tortional Resistance: \" + str(torsion_resistance_negative) + \" Nm\")\n",
    "print(width)"
   ]
  }
 ],
 "metadata": {
  "kernelspec": {
   "display_name": "Python 3",
   "language": "python",
   "name": "python3"
  },
  "language_info": {
   "codemirror_mode": {
    "name": "ipython",
    "version": 3
   },
   "file_extension": ".py",
   "mimetype": "text/x-python",
   "name": "python",
   "nbconvert_exporter": "python",
   "pygments_lexer": "ipython3",
   "version": "3.9.6"
  }
 },
 "nbformat": 4,
 "nbformat_minor": 2
}
