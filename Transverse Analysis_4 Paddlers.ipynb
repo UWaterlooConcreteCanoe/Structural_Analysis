{
 "cells": [
  {
   "cell_type": "code",
   "execution_count": 31,
   "id": "wicked-cedar",
   "metadata": {},
   "outputs": [],
   "source": [
    "import os\n",
    "import pandas as pd\n",
    "import numpy as np\n",
    "import matplotlib.pyplot as plt\n",
    "\n",
    "#-------------------Inputs-------------------------------------------------------------\n",
    "input_file = \"Station Information.csv\"\n",
    "outerHull_file = \"Outer Hull.csv\" # Will be used for hydrostatic force and waterline calculation\n",
    "DLF = 1.25 # Dead Load Factor\n",
    "LLF = 1.3 # Live Load Factor\n",
    "pad_male = 81.64 # Weight of male padder (kg)\n",
    "pad_female = 68.03 # Weight of female paddler (kg)\n",
    "water_den = 1000 # Density of water = 1000 kg/m^3\n",
    "g = 9.81 # Gravity [m/s^2]\n",
    "HF = 1.2 # Hydrostatic Force Factor\n",
    "concrete_density = 1300 # [kg/m^3]\n",
    "thickness = 25 # [mm]\n",
    "#--------------------------------------------------------------------------------------\n",
    "pad1_po = 1000 # Position of first paddler with respect to left end of canoe (mm)\n",
    "pad2_po = 2000 # Position of second paddler with respect to left end of canoe (mm)\n",
    "pad3_po = 4000 # Position of third paddler with respect to left end of canoe (mm)\n",
    "pad4_po = 5000 # Position of fourth paddler with respect to left end of canoe (mm)\n",
    "pad_first = pad_male # Choose between pad_male and pad_female\n",
    "pad_second = pad_female # Choose between pad_male and pad_female\n",
    "pad_third = pad_female # Choose between pad_male and pad_female\n",
    "pad_fourth = pad_male # Choose between pad_male and pad_female\n",
    "# Applies live load factor\n",
    "pad1 = pad_first*LLF\n",
    "pad2 = pad_second*LLF\n",
    "pad3 = pad_third*LLF\n",
    "pad4 = pad_fourth*LLF\n",
    "#--------------------------------------------------------------------------------------\n",
    "\n",
    "script_dir = os.path.abspath('') # absolute file path in Jupyter\n",
    "file_path = os.path.join(script_dir, input_file) # file path for the station information\n",
    "\n",
    "# Get the canoe's volume and mass from the station info\n",
    "canoe_info = pd.read_csv(file_path, header=None)\n",
    "statVol = canoe_info[1][1:]\n",
    "statMass = canoe_info[2]\n",
    "\n",
    "# Get the outer hull coordinates from the input file\n",
    "file_path = os.path.join(script_dir, outerHull_file)\n",
    "out_coor = pd.read_csv(file_path, header=None)\n",
    "x_out = out_coor[0]\n",
    "y_out = out_coor[1]\n",
    "z_out = out_coor[2]\n",
    "\n",
    "# Convert Series to List\n",
    "stat_Mass = []\n",
    "for i in range(1,len(statMass),1):\n",
    "    stat_Mass.append(float(statMass[i]))\n",
    "\n",
    "stat_Vol = []\n",
    "for i in range(1,len(statVol),1):\n",
    "    stat_Vol.append(float(statVol[i]))\n",
    "\n",
    "canoe_volume = np.sum(stat_Vol) # m^3\n",
    "canoe_weight = np.sum(stat_Mass)*DLF # [kg]\n",
    "total_weight = canoe_weight + pad1 + pad2 # [kg]\n",
    "\n",
    "station_no = x_out.nunique() # number of stations\n",
    "station = x_out.unique() # location of each station\n"
   ]
  },
  {
   "cell_type": "code",
   "execution_count": 33,
   "id": "unable-pathology",
   "metadata": {},
   "outputs": [],
   "source": [
    "# Hydrostatic Force and Moment\n",
    "\n",
    "hydro_x = []\n",
    "hydro_y = []\n",
    "moment = []\n",
    "\n",
    "# Loop through each station\n",
    "# The loop ends at station_no - 2 because each loop uses the kth and the (k+1)th station\n",
    "for k in range(1,station_no-2,1):\n",
    "\n",
    "    # Coordinates of points in the outer frame sharing an X-coordinate with the current station\n",
    "    X1_value = station[k]\n",
    "    Y1 = []\n",
    "    Z1 = []\n",
    "\n",
    "    # Coordinates of points in the outer frame sharing an X-coordinate with the next station\n",
    "    X2_value = station[k+1]\n",
    "    Y2 = []\n",
    "    Z2 = []\n",
    "\n",
    "    # Loop through each x coordinate in the outer hull\n",
    "    for i in range(0,len(x_out),1):\n",
    "\n",
    "        # If the coordinate is aligned with the second station on the X-axis, store this XYZ coordinate\n",
    "        if x_out[i] == X1_value:\n",
    "            Y1.append(y_out[i])\n",
    "            Z1.append(z_out[i])\n",
    "\n",
    "        # Otherwise, if the coordinate is aligned with the second station on the X-axis, store this XYZ coordinate\n",
    "        elif x_out[i] == X2_value:\n",
    "            Y2.append(y_out[i])\n",
    "            Z2.append(z_out[i])\n",
    "    \n",
    "    # TODO: Transverse Loop\n",
    "    stat_hydro_x = []\n",
    "    stat_hydro_y = []\n",
    "    moment_y = []\n",
    "    moment_x = []\n",
    "    n = int((len(Y1)-1)/2)\n",
    "    for j in range(0,n,1):\n",
    "        X = abs(X2_value - X1_value)\n",
    "        Y = thickness\n",
    "        Z = abs(Z1[j+1])+ abs(Z2[j+1])/2\n",
    "        \n",
    "        Y_value = (abs(Y1[j])+ abs(Y1[j+1]) + abs(Y2[j]) + abs(Y2[j+1]))/4\n",
    "        Z_value = (abs(max(Z2))+abs(max(Z1)))/2 - (abs(Z1[j])+abs(Z1[j+1])+abs(Z2[j])+abs(Z2[j+1]))\n",
    "        \n",
    "        stat_hydro_yi = water_den*g*(Z/1000)*(Y/1000)*(X/1000) # [N]\n",
    "        \n",
    "        area1 = (abs(Y1[j])+abs(Y1[j+1]))*abs(Z1[j]-Z1[j+1])/2\n",
    "        area2 = (abs(Y2[j])+abs(Y2[j+1]))*abs(Z2[j]-Z2[j+1])/2\n",
    "        volume = X*(area1 + area2)/2\n",
    "        \n",
    "        stat_hydro = water_den*g*volume/10**9 # [N]\n",
    "        \n",
    "        if stat_hydro**2 - stat_hydro_yi**2 >= 0:\n",
    "            stat_hydro_xi = abs(stat_hydro**2 - stat_hydro_yi**2)**0.5 # [N]\n",
    "        else:\n",
    "            stat_hydro_xi = -abs(stat_hydro**2 - stat_hydro_yi**2)**0.5 # [N]\n",
    "        \n",
    "        stat_hydro_x.append(stat_hydro_xi)\n",
    "        stat_hydro_y.append(stat_hydro_yi)\n",
    "        moment_y.append(stat_hydro_yi*Y_value/1000)\n",
    "        moment_x.append(stat_hydro_xi*Z_value/1000)\n",
    "    \n",
    "    hydro_x.append(np.sum(stat_hydro_x))\n",
    "    hydro_y.append(np.sum(stat_hydro_y))\n",
    "    moment.append((-1)*(np.sum(moment_y)+np.sum(moment_x)))\n",
    "\n",
    "    "
   ]
  },
  {
   "cell_type": "code",
   "execution_count": 34,
   "id": "handed-burlington",
   "metadata": {},
   "outputs": [
    {
     "data": {
      "image/png": "[encoded data removed]",
      "text/plain": [
       "<Figure size 432x288 with 1 Axes>"
      ]
     },
     "metadata": {
      "needs_background": "light"
     },
     "output_type": "display_data"
    },
    {
     "data": {
      "image/png": "[encoded data removed]",
      "text/plain": [
       "<Figure size 432x288 with 1 Axes>"
      ]
     },
     "metadata": {
      "needs_background": "light"
     },
     "output_type": "display_data"
    },
    {
     "name": "stdout",
     "output_type": "stream",
     "text": [
      "Maximum positive shear is  274.340010710039 N.\n",
      "Maximum negative shear is  0 N.\n",
      "Maximum positive moment is  0 Nm.\n",
      "Maximum negative moment is  -321.17285479876375 Nm.\n"
     ]
    }
   ],
   "source": [
    "# Plot SFD and BMD\n",
    "stat_x = []\n",
    "for i in range(0,len(station)-1,1):\n",
    "    stat_x.append((station[i]+station[i+1])/2)\n",
    "\n",
    "x = []\n",
    "shear = []\n",
    "\n",
    "for j in range(0,len(stat_x)-2,1):\n",
    "    shear_force  = hydro_y[j]*HF +(-1)*stat_Vol[j]*concrete_density*g*DLF/2\n",
    "    shear.append(shear_force)\n",
    "\n",
    "shear.insert(0,0)\n",
    "shear.append(0)\n",
    "\n",
    "plt.plot(stat_x,shear)\n",
    "plt.title('Shear Force Diagram')\n",
    "plt.xlabel('x (mm)')\n",
    "plt.ylabel('Shear Force (N)')\n",
    "plt.show()\n",
    "\n",
    "moment.append(0)\n",
    "moment.insert(0,0)\n",
    "\n",
    "plt.plot(stat_x,moment)\n",
    "plt.title('Bending Moment Diagram')\n",
    "plt.xlabel('x (mm)')\n",
    "plt.ylabel('Bending Moment (N*m)')\n",
    "plt.show()\n",
    "\n",
    "shear_max_index = hydro_x.index(max(hydro_x))\n",
    "\n",
    "print('Maximum positive shear is ', max(shear), 'N.')\n",
    "print('Maximum negative shear is ', min(shear), 'N.')\n",
    "print('Maximum positive moment is ', max(moment), 'Nm.')\n",
    "print('Maximum negative moment is ', min(moment), 'Nm.')\n"
   ]
  },
  {
   "cell_type": "code",
   "execution_count": null,
   "id": "pediatric-copyright",
   "metadata": {},
   "outputs": [],
   "source": []
  }
 ],
 "metadata": {
  "kernelspec": {
   "display_name": "Python 3.9.6 64-bit",
   "language": "python",
   "name": "python3"
  },
  "language_info": {
   "codemirror_mode": {
    "name": "ipython",
    "version": 3
   },
   "file_extension": ".py",
   "mimetype": "text/x-python",
   "name": "python",
   "nbconvert_exporter": "python",
   "pygments_lexer": "ipython3",
   "version": "3.9.6"
  },
  "vscode": {
   "interpreter": {
    "hash": "31f2aee4e71d21fbe5cf8b01ff0e069b9275f58929596ceb00d14d90e3e16cd6"
   }
  }
 },
 "nbformat": 4,
 "nbformat_minor": 5
}
