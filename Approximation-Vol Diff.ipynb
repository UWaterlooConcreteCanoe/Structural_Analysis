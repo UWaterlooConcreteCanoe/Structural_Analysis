{
 "cells": [
  {
   "cell_type": "code",
   "execution_count": 1,
   "id": "contained-encoding",
   "metadata": {},
   "outputs": [],
   "source": [
    "import os\n",
    "import pandas as pd\n",
    "import numpy as np\n",
    "import matplotlib.pyplot as plt\n",
    "\n",
    "#-----------inputs--------------------\n",
    "script = \"Approximation.ipynb\"\n",
    "inner_file = \"Inner Hull.csv\"\n",
    "outer_file = \"Outer Hull.csv\"\n",
    "concrete_density = 1200 # Concrete density = 1200 kg/m^3\n",
    "#-------------------------------------\n",
    "\n",
    "script_dir = os.path.abspath('') # absolute file path in Jupyter\n",
    "\n",
    "# Read the inner hull coordinates\n",
    "file_path = os.path.join(script_dir, inner_file) # file path for the text file input\n",
    "in_coor = pd.read_csv(file_path, header=None)\n",
    "x_in = in_coor[0]\n",
    "y_in = in_coor[1]\n",
    "z_in = in_coor[2]\n",
    "\n",
    "# Read the outer hull coordinates\n",
    "file_path = os.path.join(script_dir, outer_file) # file path for the text file input\n",
    "out_coor = pd.read_csv(file_path, header=None)\n",
    "x_out = out_coor[0]\n",
    "y_out = out_coor[1]\n",
    "z_out = out_coor[2]\n",
    "\n",
    "# Inner Hull Volume: Assume station is filled up with concrete\n",
    "station_no = x_in.nunique() # number of stations\n",
    "station = x_in.unique() # location of each station\n",
    "\n",
    "# Inner Hull Volume\n",
    "vol_in = []\n",
    "\n",
    "# Loop through each station\n",
    "# The loop ends at station_no - 2 because each loop uses the kth and the (k+1)th station\n",
    "# Starts at 1 to skip 0,0,0\n",
    "for k in range(1,station_no-2,1):\n",
    "\n",
    "    # Coordinates of points in the outer frame sharing an X-coordinate with the current station\n",
    "    X1_value = station[k]\n",
    "    Y1 = []\n",
    "    Z1 = []\n",
    "\n",
    "    # Coordinates of points in the outer frame sharing an X-coordinate with the next station\n",
    "    X2_value = station[k+1]\n",
    "    Y2 = []\n",
    "    Z2 = []\n",
    "\n",
    "    # Loop through each x coordinate in the outer hull\n",
    "    for i in range(0,len(x_out),1):\n",
    "\n",
    "        # If the coordinate is aligned with the second station on the X-axis, store this XYZ coordinate\n",
    "        if x_out[i] == X1_value:\n",
    "            Y1.append(y_out[i])\n",
    "            Z1.append(z_out[i])\n",
    "\n",
    "        # Otherwise, if the coordinate is aligned with the second station on the X-axis, store this XYZ coordinate\n",
    "        elif x_out[i] == X2_value:\n",
    "            Y2.append(y_out[i])\n",
    "            Z2.append(z_out[i])\n",
    "\n",
    "    volume = 0\n",
    "    if len(Y1)/2 == 0:\n",
    "        n = int(len(Y1)/2)\n",
    "        for j in range(0,n,1):\n",
    "            area1 = (abs(Y1[j])+abs(Y1[j+1]))*abs(Z1[j]-Z1[j+1])/2*2\n",
    "            area2 = (abs(Y2[j])+abs(Y2[j+1]))*abs(Z2[j]-Z2[j+1])/2*2\n",
    "            volume = volume + abs(X1_value - X2_value)*(area1 + area2)/2\n",
    "    else:\n",
    "        n = int((len(Y1)-1)/2)\n",
    "        for j in range(0,n,1):\n",
    "            area1 = (abs(Y1[j])+abs(Y1[j+1]))*abs(Z1[j]-Z1[j+1])/2*2\n",
    "            area2 = (abs(Y2[j])+abs(Y2[j+1]))*abs(Z2[j]-Z2[j+1])/2*2\n",
    "            volume = volume + abs(X1_value - X2_value)*(area1 + area2)/2\n",
    "        # triangle piece at the bottom\n",
    "        area1 = abs(Y1[n-1])*abs(Z1[n-1])/2*2\n",
    "        area2 = abs(Y2[n-1])*abs(Z2[n-1])/2*2\n",
    "        volume = volume + abs(X1_value - X2_value)*(area1 + area2)/2\n",
    "        vol_in.append(volume)\n",
    "\n",
    "def vol_end(l,w,h):\n",
    "    volume = l*w*h/3\n",
    "    return volume\n",
    "\n",
    "# Volumes of decks\n",
    "X1_value = station[0]\n",
    "X2_value = station[0+1]\n",
    "Y1 = []\n",
    "Y2 = []\n",
    "Z1 = []\n",
    "Z2 = []\n",
    "\n",
    "for i in range(0,len(x_in),1):\n",
    "    if x_in[i] == X1_value:\n",
    "        Y1.append(y_in[i])\n",
    "        Z1.append(z_in[i])\n",
    "\n",
    "    elif x_in[i] == X2_value:\n",
    "        Y2.append(y_in[i])\n",
    "        Z2.append(z_in[i])\n",
    "    \n",
    "l = abs(max(Y2)-min(Y2))\n",
    "w = abs(max(Z2)-min(Z2))\n",
    "h = abs(X2_value - X1_value)\n",
    "volume = vol_end(l,w,h)\n",
    "vol_in.insert(0, volume)\n",
    "\n",
    "X1_value = station[len(station)-1]\n",
    "X2_value = station[len(station)-2]\n",
    "Y1 = []\n",
    "Y2 = []\n",
    "Z1 = []\n",
    "Z2 = []\n",
    "\n",
    "for i in range(0,len(x_in),1):\n",
    "    if x_in[i] == X1_value:\n",
    "        Y1.append(y_in[i])\n",
    "        Z1.append(z_in[i])\n",
    "\n",
    "    elif x_in[i] == X2_value:\n",
    "        Y2.append(y_in[i])\n",
    "        Z2.append(z_in[i])\n",
    "    \n",
    "l = abs(max(Y2)-min(Y2))\n",
    "w = abs(max(Z2)-min(Z2))\n",
    "h = abs(X2_value - X1_value)\n",
    "volume = vol_end(l,w,h)\n",
    "vol_in.append(volume)"
   ]
  },
  {
   "cell_type": "code",
   "execution_count": 2,
   "id": "macro-validation",
   "metadata": {},
   "outputs": [],
   "source": [
    "# Outer Hull Volume: Assume station is filled up with concrete\n",
    "station_no = x_out.nunique() # number of stations\n",
    "station = x_out.unique() # location of each station\n",
    "\n",
    "# Outer Hull Volume\n",
    "vol_out = []\n",
    "for k in range(1,station_no-2,1):\n",
    "    X1_value = station[k]\n",
    "    X2_value = station[k+1]\n",
    "    Y1 = []\n",
    "    Y2 = []\n",
    "    Z1 = []\n",
    "    Z2 = []\n",
    "\n",
    "    for i in range(0,len(x_out),1):\n",
    "        if x_out[i] == X1_value:\n",
    "            Y1.append(y_out[i])\n",
    "            Z1.append(z_out[i])\n",
    "\n",
    "        elif x_out[i] == X2_value:\n",
    "            Y2.append(y_out[i])\n",
    "            Z2.append(z_out[i])\n",
    "    \n",
    "    volume = 0\n",
    "    if len(Y1)/2 == 0:\n",
    "        n = int(len(Y1)/2)\n",
    "        for j in range(0,n,1):\n",
    "            area1 = (abs(Y1[j])+abs(Y1[j+1]))*abs(Z1[j]-Z1[j+1])/2*2\n",
    "            area2 = (abs(Y2[j])+abs(Y2[j+1]))*abs(Z2[j]-Z2[j+1])/2*2\n",
    "            volume = volume + abs(X1_value - X2_value)*(area1 + area2)/2\n",
    "    else:\n",
    "        n = int((len(Y1)-1)/2)\n",
    "        for j in range(0,n,1):\n",
    "            area1 = (abs(Y1[j])+abs(Y1[j+1]))*abs(Z1[j]-Z1[j+1])/2*2\n",
    "            area2 = (abs(Y2[j])+abs(Y2[j+1]))*abs(Z2[j]-Z2[j+1])/2*2\n",
    "            volume = volume + abs(X1_value - X2_value)*(area1 + area2)/2\n",
    "        # triangle piece at the bottom\n",
    "        area1 = abs(Y1[n-1])*abs(Z1[n-1])/2*2\n",
    "        area2 = abs(Y2[n-1])*abs(Z2[n-1])/2*2\n",
    "        volume = volume + abs(X1_value - X2_value)*(area1 + area2)/2\n",
    "        vol_out.append(volume)\n",
    "\n",
    "        \n",
    "# Volumes of decks\n",
    "X1_value = station[0]\n",
    "X2_value = station[0+1]\n",
    "Y1 = []\n",
    "Y2 = []\n",
    "Z1 = []\n",
    "Z2 = []\n",
    "\n",
    "for i in range(0,len(x_out),1):\n",
    "    if x_out[i] == X1_value:\n",
    "        Y1.append(y_out[i])\n",
    "        Z1.append(z_out[i])\n",
    "\n",
    "    elif x_out[i] == X2_value:\n",
    "        Y2.append(y_out[i])\n",
    "        Z2.append(z_out[i])\n",
    "    \n",
    "l = abs(max(Y2)-min(Y2))\n",
    "w = abs(max(Z2)-min(Z2))\n",
    "h = abs(X2_value - X1_value)\n",
    "volume = vol_end(l,w,h)\n",
    "vol_out.insert(0, volume)\n",
    "\n",
    "X1_value = station[len(station)-1]\n",
    "X2_value = station[len(station)-2]\n",
    "Y1 = []\n",
    "Y2 = []\n",
    "Z1 = []\n",
    "Z2 = []\n",
    "\n",
    "for i in range(0,len(x_out),1):\n",
    "    if x_out[i] == X1_value:\n",
    "        Y1.append(y_out[i])\n",
    "        Z1.append(z_out[i])\n",
    "\n",
    "    elif x_out[i] == X2_value:\n",
    "        Y2.append(y_out[i])\n",
    "        Z2.append(z_out[i])\n",
    "    \n",
    "l = abs(max(Y2)-min(Y2))\n",
    "w = abs(max(Z2)-min(Z2))\n",
    "h = abs(X2_value - X1_value)\n",
    "volume = vol_end(l,w,h)\n",
    "vol_out.append(volume)"
   ]
  },
  {
   "cell_type": "code",
   "execution_count": 3,
   "id": "earlier-devon",
   "metadata": {},
   "outputs": [
    {
     "name": "stdout",
     "output_type": "stream",
     "text": [
      "The mass of canoe is  170.1408230314215  kg.\n"
     ]
    }
   ],
   "source": [
    "stat_vol = []\n",
    "for i in range(0,len(vol_in),1):\n",
    "    stat_vol.append(vol_out[i] - vol_in[i])\n",
    "\n",
    "canoe_vol = 0\n",
    "stat_mass = []\n",
    "for i in range(0,len(stat_vol),1):\n",
    "    canoe_vol = canoe_vol + stat_vol[i]\n",
    "    stat_mass.append(stat_vol[i]/(10**9)*concrete_density)\n",
    "canoe_m = canoe_vol/(10**9)*concrete_density\n",
    "\n",
    "print('The mass of canoe is ', canoe_m, ' kg.')"
   ]
  },
  {
   "cell_type": "code",
   "execution_count": 4,
   "id": "built-realtor",
   "metadata": {},
   "outputs": [],
   "source": [
    "# Plot SFD and BMD\n",
    "stand = canoe_m/2 # two stands spaced equally\n",
    "stand_force = [stand, stand]\n",
    "\n",
    "length = max(x_out)\n",
    "stand_po = [length/3, length/3*2]\n",
    "\n",
    "stat_x = []\n",
    "for i in range(0,len(station)-1,1):\n",
    "    stat_x.append((station[i]+station[i+1])/2)\n",
    "\n",
    "g = 9.81\n",
    "x = []\n",
    "shear = []\n",
    "for i in range(0,int(length),1):\n",
    "    x.append(i)\n",
    "    shear_force = 0\n",
    "    for j in range(0,len(stat_x),1):\n",
    "        if i >= stat_x[j]:\n",
    "            shear_force  = shear_force + (-1)*stat_mass[j]*g\n",
    "        else:\n",
    "            shear_force = shear_force\n",
    "    for k in range(0,len(stand_po),1):\n",
    "        if i >= stand_po[k]:\n",
    "            shear_force = shear_force + stand_force[k]*g\n",
    "        else:\n",
    "            shear_force = shear_force\n",
    "    shear.append(shear_force)"
   ]
  },
  {
   "cell_type": "code",
   "execution_count": 5,
   "id": "recognized-sector",
   "metadata": {},
   "outputs": [
    {
     "data": {
      "image/png": "[encoded data removed]",
      "text/plain": [
       "<Figure size 432x288 with 1 Axes>"
      ]
     },
     "metadata": {
      "needs_background": "light"
     },
     "output_type": "display_data"
    }
   ],
   "source": [
    "plt.plot(x,shear)\n",
    "plt.title('Shear Force Diagram')\n",
    "plt.xlabel('x (mm)')\n",
    "plt.ylabel('Shear Force (N)')\n",
    "plt.show()\n",
    "\n",
    "\n",
    "# Export points to csv file:\n",
    "df1 = pd.DataFrame(data={'Length': x, 'Shear': shear})\n",
    "\n",
    "csv_file = 'Length_vs_Shear_Display_Stand.csv'\n",
    "script_dir = os.path.abspath('')\n",
    "file_path = os.path.join(script_dir, csv_file)\n",
    "df1.to_csv(file_path, index=False)"
   ]
  },
  {
   "cell_type": "code",
   "execution_count": 6,
   "id": "linear-finger",
   "metadata": {},
   "outputs": [],
   "source": [
    "moment = []\n",
    "moment.append(0)\n",
    "bending_moment = 0\n",
    "for i in range(0,len(x)-1,1):\n",
    "    bending_moment = bending_moment + (x[i+1]-x[i])*shear[i+1]/1000\n",
    "    moment.append(bending_moment)\n",
    "    "
   ]
  },
  {
   "cell_type": "code",
   "execution_count": 7,
   "id": "middle-albuquerque",
   "metadata": {},
   "outputs": [
    {
     "data": {
      "image/png": "[encoded data removed]",
      "text/plain": [
       "<Figure size 432x288 with 1 Axes>"
      ]
     },
     "metadata": {
      "needs_background": "light"
     },
     "output_type": "display_data"
    }
   ],
   "source": [
    "plt.plot(x,moment)\n",
    "plt.title('Bending Moment Diagram')\n",
    "plt.xlabel('x (mm)')\n",
    "plt.ylabel('Bending Moment (N*m)')\n",
    "plt.show()\n",
    "\n",
    "# Export points to csv file:\n",
    "df1 = pd.DataFrame(data={'Length': x, 'Moment': moment})\n",
    "\n",
    "csv_file = 'Length_vs_Moment_Display_Stand.csv'\n",
    "script_dir = os.path.abspath('')\n",
    "file_path = os.path.join(script_dir, csv_file)\n",
    "df1.to_csv(file_path, index=False)"
   ]
  },
  {
   "cell_type": "code",
   "execution_count": 8,
   "id": "consistent-oracle",
   "metadata": {},
   "outputs": [],
   "source": [
    "# export the section volume, section weight, shear force, and bending moment to excel\n",
    "stat_weight = []\n",
    "for i in range(0,len(stat_vol),1):\n",
    "    station_weight = stat_mass[i]*g\n",
    "    stat_weight.append(station_weight)\n",
    "\n",
    "stat_no = np.arange(1, len(stat_vol)+1, 1)\n",
    "df1 = pd.DataFrame(data={'Station Number': stat_no, 'Volume (m^3)': stat_vol, 'Mass (kg)': stat_mass, 'Weight (N)': stat_weight})\n",
    "df1['Volume (m^3)'] = df1['Volume (m^3)']/(10**9)\n",
    "\n",
    "csv_file = 'Station Information.csv'\n",
    "script_dir = os.path.abspath('')\n",
    "file_path = os.path.join(script_dir, csv_file)\n",
    "df1.to_csv(file_path, index=False)"
   ]
  },
  {
   "cell_type": "code",
   "execution_count": 9,
   "id": "floral-creature",
   "metadata": {},
   "outputs": [
    {
     "data": {
      "text/plain": [
       "429.77392446835324"
      ]
     },
     "execution_count": 9,
     "metadata": {},
     "output_type": "execute_result"
    }
   ],
   "source": [
    "max(shear)"
   ]
  },
  {
   "cell_type": "code",
   "execution_count": 10,
   "id": "emotional-edward",
   "metadata": {},
   "outputs": [
    {
     "data": {
      "text/plain": [
       "-429.77392446835313"
      ]
     },
     "execution_count": 10,
     "metadata": {},
     "output_type": "execute_result"
    }
   ],
   "source": [
    "min(shear)"
   ]
  },
  {
   "cell_type": "code",
   "execution_count": 11,
   "id": "alien-renewal",
   "metadata": {},
   "outputs": [
    {
     "data": {
      "text/plain": [
       "714.5934115576529"
      ]
     },
     "execution_count": 11,
     "metadata": {},
     "output_type": "execute_result"
    }
   ],
   "source": [
    "np.sum(shear)"
   ]
  },
  {
   "cell_type": "code",
   "execution_count": 12,
   "id": "4fd70e65",
   "metadata": {
    "pycharm": {
     "name": "#%%\n"
    }
   },
   "outputs": [],
   "source": [
    "# export the values to csv file\n",
    "titles = ['Positive Shear [N]', 'Negative Shear [N]', 'Positive Bending Moment [Nm]', 'Negative Bending Moment [Nm]', 'Moment at the end [Nm]']\n",
    "values = [max(shear), min(shear), max(moment), min(moment), moment[len(moment)-1]]\n",
    "station_no = []\n",
    "max_width = []\n",
    "max_depth = []\n",
    "station_t = [] # Station thickness\n",
    "\n",
    "for value in [max(shear), min(shear)]:\n",
    "    shear_index = shear.index(value)\n",
    "    xshear = x[shear_index]\n",
    "    for i in range(0,len(station)-1,1):\n",
    "        if (xshear >= station[i] and xshear < station[i+1]):\n",
    "            station_index = i+1\n",
    "\n",
    "    X1_value = station[station_index-1]\n",
    "    X2_value = station[station_index]\n",
    "    Y1 = []\n",
    "    Y2 = []\n",
    "    Z1 = []\n",
    "    Z2 = []        \n",
    "    for i in range(0,len(y_out),1):\n",
    "        if x_out[i] == X1_value:\n",
    "            Y1.append(y_out[i])\n",
    "            Z1.append(z_out[i])\n",
    "        elif x_out[i] == X2_value:\n",
    "            Y2.append(y_out[i])\n",
    "            Z2.append(z_out[i])\n",
    "    width = (max(Y1)-min(Y1)+max(Y2)-min(Y2))/2\n",
    "    depth = (abs(min(Z1))+abs(min(Z2)))/2\n",
    "    max_width.append(width)\n",
    "    max_depth.append(depth)\n",
    "    station_no.append(station_index)\n",
    "    station_t.append(abs(X2_value - X1_value))\n",
    "\n",
    "for value in [max(moment), min(moment)]:\n",
    "    moment_index = moment.index(value)\n",
    "    xmoment = x[moment_index]\n",
    "    for i in range(0,len(station)-1,1):\n",
    "        if (xmoment >= station[i] and xmoment < station[i+1]):\n",
    "            station_index = i+1\n",
    "\n",
    "    X1_value = station[station_index-1]\n",
    "    X2_value = station[station_index]\n",
    "    Y1 = []\n",
    "    Y2 = []\n",
    "    Z1 = []\n",
    "    Z2 = []        \n",
    "    for i in range(0,len(y_out),1):\n",
    "        if x_out[i] == X1_value:\n",
    "            Y1.append(y_out[i])\n",
    "            Z1.append(z_out[i])\n",
    "        elif x_out[i] == X2_value:\n",
    "            Y2.append(y_out[i])\n",
    "            Z2.append(z_out[i])\n",
    "    width = (max(Y1)-min(Y1)+max(Y2)-min(Y2))/2\n",
    "    depth = (abs(min(Z1))+abs(min(Z2)))/2\n",
    "    max_width.append(width)\n",
    "    max_depth.append(depth)\n",
    "    station_no.append(station_index)\n",
    "    station_t.append(abs(X2_value - X1_value))\n",
    "    \n",
    "station_no.append(len(station)-1)  \n",
    "max_width.append('')\n",
    "max_depth.append('')\n",
    "station_t.append('')\n",
    "\n",
    "df1 = pd.DataFrame(data={'': titles, 'Value': values, 'Station No': station_no, 'Max Width [mm]': max_width, 'Max Depth [mm]': max_depth, 'Station Thickness [mm]': station_t})\n",
    "\n",
    "csv_file = 'Shear_and_Moment_Display_Stand.csv'\n",
    "script_dir = os.path.abspath('')\n",
    "file_path = os.path.join(script_dir, csv_file)\n",
    "df1.to_csv(file_path, index=False)"
   ]
  },
  {
   "cell_type": "code",
   "execution_count": null,
   "id": "99d8e961",
   "metadata": {
    "pycharm": {
     "name": "#%%\n"
    }
   },
   "outputs": [],
   "source": []
  },
  {
   "cell_type": "code",
   "execution_count": null,
   "id": "b010116c",
   "metadata": {
    "pycharm": {
     "name": "#%%\n"
    }
   },
   "outputs": [],
   "source": []
  },
  {
   "cell_type": "code",
   "execution_count": null,
   "id": "632dab9a",
   "metadata": {
    "pycharm": {
     "name": "#%%\n"
    }
   },
   "outputs": [],
   "source": []
  },
  {
   "cell_type": "code",
   "execution_count": null,
   "id": "188eb0c8",
   "metadata": {
    "pycharm": {
     "name": "#%%\n"
    }
   },
   "outputs": [],
   "source": []
  },
  {
   "cell_type": "code",
   "execution_count": null,
   "id": "99f719a7",
   "metadata": {
    "pycharm": {
     "name": "#%%\n"
    }
   },
   "outputs": [],
   "source": []
  },
  {
   "cell_type": "code",
   "execution_count": null,
   "id": "restricted-comment",
   "metadata": {},
   "outputs": [],
   "source": []
  },
  {
   "cell_type": "code",
   "execution_count": null,
   "id": "8f7881a8",
   "metadata": {},
   "outputs": [],
   "source": []
  },
  {
   "cell_type": "code",
   "execution_count": null,
   "id": "2a7b85cd",
   "metadata": {},
   "outputs": [],
   "source": []
  },
  {
   "cell_type": "code",
   "execution_count": null,
   "id": "df5922e6",
   "metadata": {
    "tags": []
   },
   "outputs": [],
   "source": []
  }
 ],
 "metadata": {
  "kernelspec": {
   "display_name": "Python 3.9.6 64-bit",
   "language": "python",
   "name": "python3"
  },
  "language_info": {
   "codemirror_mode": {
    "name": "ipython",
    "version": 3
   },
   "file_extension": ".py",
   "mimetype": "text/x-python",
   "name": "python",
   "nbconvert_exporter": "python",
   "pygments_lexer": "ipython3",
   "version": "3.9.6"
  },
  "vscode": {
   "interpreter": {
    "hash": "31f2aee4e71d21fbe5cf8b01ff0e069b9275f58929596ceb00d14d90e3e16cd6"
   }
  }
 },
 "nbformat": 4,
 "nbformat_minor": 5
}
