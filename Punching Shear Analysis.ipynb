{
 "cells": [
  {
   "cell_type": "code",
   "execution_count": 2,
   "id": "played-river",
   "metadata": {},
   "outputs": [
    {
     "name": "stdout",
     "output_type": "stream",
     "text": [
      "The design needs to be re-done for punching shear.\n"
     ]
    }
   ],
   "source": [
    "import os\n",
    "import pandas as pd\n",
    "import numpy as np\n",
    "\n",
    "#-------------------Inputs-------------------------------------------------------------\n",
    "paddler_mass = 81.64 # Max paddler mass [kg]\n",
    "g = 9.81 # Gravity [m/s^2]\n",
    "paddler_weight = paddler_mass*g # Max paddler weight [N]\n",
    "safety_factor = 1.2\n",
    "fac_weight = safety_factor*paddler_weight # Factored Weight [N]\n",
    "A = 230 # Punching area length [mm]\n",
    "B = 90 # Punching area width [mm]\n",
    "layer1 = 1 # if layer exists, it equals to 1. Otherwise, zero.\n",
    "layer2 = 0 # if layer exists, it equals to 1. Otherwise, zero.\n",
    "d_mesh_1 = 2 # distance b/w the first layer of reinforcement to the surface [mm]\n",
    "d_mesh_2 = 5 # distance b/w the second layer of reinforcement to the surface [mm]\n",
    "f_c = 4.9 # [MPa]\n",
    "lamda = 0.75\n",
    "fi_c = 0.65\n",
    "alpha_s = 4 # As per CSA A23.3-14 CL 13.3.4.1 (13-7)\n",
    "#--------------------------------------------------------------------------------------\n",
    "\n",
    "if layer2 == 0:\n",
    "    d = d_mesh_1\n",
    "else:\n",
    "    d = (d_mesh_1+d_mesh_2)/2\n",
    "\n",
    "b0 = 2*(A+B)+8*d/2 # [mm]\n",
    "area = d*b0 # [mm^2]\n",
    "\n",
    "beta_c = A/B\n",
    "if beta_c<1:\n",
    "    print('Warning: Beta_c is smaller than one.')\n",
    "\n",
    "Vc_1 = (1+2/beta_c)*0.2*lamda*fi_c*np.sqrt(f_c)    \n",
    "Vc_2 = ((alpha_s*d/b0)+0.19)*lamda*fi_c*np.sqrt(f_c)\n",
    "Vc_3 = 0.38*lamda*fi_c*np.sqrt(f_c)\n",
    "Vc = min(Vc_1, Vc_2, Vc_3)\n",
    "\n",
    "Vf = fac_weight/area\n",
    "\n",
    "if Vc>=Vf:\n",
    "    print('The design is good for punching shear.')\n",
    "else:\n",
    "    print('The design needs to be re-done for punching shear.')\n"
   ]
  },
  {
   "cell_type": "code",
   "execution_count": null,
   "id": "emerging-rhythm",
   "metadata": {},
   "outputs": [],
   "source": []
  }
 ],
 "metadata": {
  "kernelspec": {
   "display_name": "Python 3",
   "language": "python",
   "name": "python3"
  },
  "language_info": {
   "codemirror_mode": {
    "name": "ipython",
    "version": 3
   },
   "file_extension": ".py",
   "mimetype": "text/x-python",
   "name": "python",
   "nbconvert_exporter": "python",
   "pygments_lexer": "ipython3",
   "version": "3.8.5"
  }
 },
 "nbformat": 4,
 "nbformat_minor": 5
}
