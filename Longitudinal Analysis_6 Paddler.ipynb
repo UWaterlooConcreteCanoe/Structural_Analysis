import os
import pandas as pd
import numpy as np
import matplotlib.pyplot as plt

#-------------------Inputs-------------------------------------------------------------
script = "Longitudinal Analysis_6 Paddler.ipynb"
input_file = "Station Information.csv"
outerHull_file = "Outer Hull.csv" # Will be used for hydrostatic force and waterline calculation
DLF = 1.25 # Dead Load Factor
LLF = 1.3 # Live Load Factor
pad_male = 81.64 # Weight of male padder (kg)
pad_female = 68.03 # Weight of female paddler (kg)
water_den = 1000 # Density of water = 1000 kg/m^3
