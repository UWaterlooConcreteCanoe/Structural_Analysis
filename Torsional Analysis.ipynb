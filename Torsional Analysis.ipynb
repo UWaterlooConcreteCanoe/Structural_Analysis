{
 "cells": [
  {
   "cell_type": "code",
   "execution_count": 7,
   "metadata": {},
   "outputs": [],
   "source": [
    "import os\n",
    "import pandas as pd\n",
    "import numpy as np\n",
    "import matplotlib.pyplot as plt\n",
    "\n",
    "input_file = \"Shear_and_Moment_6 Paddlers.csv\" # or \"Shear_and_Moment_2 Paddlers.csv\"\n",
    "\n",
    "script_dir = os.path.abspath('')\n",
    "file_path = os.path.join(script_dir, input_file)\n",
    "info = pd.read_csv(file_path, header=None)"
   ]
  },
  {
   "cell_type": "code",
   "execution_count": 8,
   "metadata": {},
   "outputs": [
    {
     "name": "stdout",
     "output_type": "stream",
     "text": [
      "Tortional Resistance: 313.05174803286246 Nm\n"
     ]
    }
   ],
   "source": [
    "# Positive Shear\n",
    "value = float(info[1][1])\n",
    "width = float(info[3][1])\n",
    "\n",
    "torsion_resistance_positive = value * width/1000 # Nm\n",
    "print(\"Tortional Resistance: \" + str(torsion_resistance_positive) + \" Nm\")"
   ]
  },
  {
   "cell_type": "code",
   "execution_count": 9,
   "metadata": {},
   "outputs": [
    {
     "name": "stdout",
     "output_type": "stream",
     "text": [
      "Tortional Resistance: -265.90620540331815 Nm\n"
     ]
    }
   ],
   "source": [
    "# Negative Shear\n",
    "value = float(info[1][2])\n",
    "width = float(info[3][2])\n",
    "\n",
    "torsion_resistance_negative = value * width/1000 # Nm\n",
    "print(\"Tortional Resistance: \" + str(torsion_resistance_negative) + \" Nm\")\n"
   ]
  }
 ],
 "metadata": {
  "kernelspec": {
   "display_name": "Python 3",
   "language": "python",
   "name": "python3"
  },
  "language_info": {
   "codemirror_mode": {
    "name": "ipython",
    "version": 3
   },
   "file_extension": ".py",
   "mimetype": "text/x-python",
   "name": "python",
   "nbconvert_exporter": "python",
   "pygments_lexer": "ipython3",
   "version": "3.9.6"
  }
 },
 "nbformat": 4,
 "nbformat_minor": 2
}
