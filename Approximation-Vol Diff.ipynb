{
 "cells": [
  {
   "cell_type": "code",
   "execution_count": 1,
   "id": "contained-encoding",
   "metadata": {},
   "outputs": [
    {
     "name": "stdout",
     "output_type": "stream",
     "text": [
      "[276381.7431771857, 1579200.249766245, 3113792.0996693103, 4466068.996327249, 5691889.287015923, 6821387.799137058, 7875892.780101395, 8865738.05300212, 9795367.758018533, 10666785.153900016, 11481136.586730327, 12239316.825966392, 12942173.85012065, 13590572.826521257, 14185416.711613873, 14727655.487454122, 15218293.445553571, 15658397.47354453, 16049106.813942013, 16391645.800537147, 16687340.557201754, 16937641.23770672, 17144153.35654033, 17308683.786505044, 17433312.992197983, 17520520.49347322, 17573441.882718116, 17596654.94653199, 17596654.94653199, 17573441.882718116, 17520520.49347322, 17433312.992197983, 17308683.786505044, 17144153.35654033, 16937641.23770672, 16687340.557201754, 16391645.800537147, 16049106.813942013, 15658397.47354453, 15218293.445553571, 14727655.487454122, 14185416.711613873, 13590572.826521257, 12942173.85012065, 12239316.825966392, 11481136.586730327, 10666785.153900016, 9795367.758018533, 8865738.05300212, 7875892.780101395, 6821387.799137058, 5691889.287015923, 4466068.996327249, 3113792.0996693103, 1579200.249766245, 276381.7431771857]\n",
      "228\n"
     ]
    }
   ],
   "source": [
    "import os\n",
    "import pandas as pd\n",
    "import numpy as np\n",
    "import matplotlib.pyplot as plt\n",
    "import _canoeValues as cv\n",
    "import math\n",
    "\n",
    "#-----------inputs--------------------\n",
    "script = \"Approximation.ipynb\"\n",
    "inner_file = \"Inner Hull.csv\"\n",
    "outer_file = \"Outer Hull.csv\"\n",
    "concrete_density = cv.concrete_density # Concrete density = 1200 kg/m^3\n",
    "#-------------------------------------\n",
    "\n",
    "script_dir = os.path.abspath('data') # absolute file path in Jupyter\n",
    "\n",
    "# Read the inner hull coordinates\n",
    "file_path = os.path.join(script_dir, inner_file) # file path for the text file input\n",
    "in_coor = pd.read_csv(file_path, header=None)\n",
    "x_in = in_coor[0]\n",
    "y_in = in_coor[1]\n",
    "z_in = in_coor[2]\n",
    "\n",
    "# Read the outer hull coordinates\n",
    "file_path = os.path.join(script_dir, outer_file) # file path for the text file input\n",
    "out_coor = pd.read_csv(file_path, header=None)\n",
    "x_out = out_coor[0]\n",
    "y_out = out_coor[1]\n",
    "z_out = out_coor[2]\n",
    "\n",
    "# Inner Hull Volume: Assume station is filled up with concrete\n",
    "station_no = x_in.nunique() # number of stations\n",
    "station = x_in.unique() # location of each station\n",
    "\n",
    "# Array of the inner hull volume of each station\n",
    "vol_in = []\n",
    "\n",
    "printCrossSectionYIn = []\n",
    "printCrossSectionZIn = []\n",
    "printCrossSectionCOMPAREYIn = []\n",
    "printCrossSectionCOMPAREZIn = []\n",
    "\n",
    "crossSectionArea = [0] * (station_no-1)\n",
    "\n",
    "# Loop through each station\n",
    "for k in range(0,station_no-1,1):\n",
    "\n",
    "    # Coordinates of points in the outer frame sharing an X-coordinate with the current station\n",
    "    X1_value = station[k]\n",
    "    Y1 = []\n",
    "    Z1 = []\n",
    "\n",
    "    # Coordinates of points in the outer frame sharing an X-coordinate with the next station\n",
    "    X2_value = station[k+1]\n",
    "    Y2 = []\n",
    "    Z2 = []\n",
    "\n",
    "    # Loop through each x coordinate in the inner hull\n",
    "    for i in range(0,len(x_in),1):\n",
    "\n",
    "        # If the coordinate is aligned with the second station on the X-axis, store this XYZ coordinate\n",
    "        if x_in[i] == X1_value:\n",
    "            Y1.append(y_in[i])\n",
    "            Z1.append(z_in[i])\n",
    "            if k == math.floor(station_no-1 / 2):\n",
    "                printCrossSectionYIn.append(y_in[i])\n",
    "                printCrossSectionZIn.append(z_in[i])\n",
    "            # Compare a station dist to middle\n",
    "            if x_in[i] == 1191.482143:\n",
    "                printCrossSectionCOMPAREYIn.append(y_in[i])\n",
    "                printCrossSectionCOMPAREZIn.append(z_in[i])\n",
    "\n",
    "        # Otherwise, if the coordinate is aligned with the second station on the X-axis, store this XYZ coordinate\n",
    "        elif x_in[i] == X2_value:\n",
    "            Y2.append(y_in[i])\n",
    "            Z2.append(z_in[i])\n",
    "\n",
    "    # Calculate the volume of this station\n",
    "    volume = 0\n",
    "    # Front of the canoe\n",
    "    if k == 0:\n",
    "        l = abs(max(Y2)-min(Y2))\n",
    "        w = abs(max(Z2)-min(Z2))\n",
    "        h = abs(X2_value - X1_value)\n",
    "        # crossSectionArea[k] -= l * w\n",
    "        volume = l*w*h/3\n",
    "    # Back of the canoe\n",
    "    elif k == station_no-2:\n",
    "        l = abs(max(Y1)-min(Y1))\n",
    "        w = abs(max(Z1)-min(Z1))\n",
    "        h = abs(X1_value - X2_value)\n",
    "        # crossSectionArea[k] -= l * w\n",
    "        volume = l*w*h/3\n",
    "    # Any other valid station of the canoe\n",
    "    elif len(Y1)/2 != 0:\n",
    "        n = int((len(Y1)-1)/2)\n",
    "        for j in range(0,n,1):\n",
    "            # print(len(Y1), len(Y2), k, station_no-1)\n",
    "            area1 = (abs(Y1[j])+abs(Y1[j+1]))*abs(Z1[j]-Z1[j+1])/2*2\n",
    "            area2 = (abs(Y2[j])+abs(Y2[j+1]))*abs(Z2[j]-Z2[j+1])/2*2\n",
    "            # Store the negative area of the inner hull (to be subtracted from outer hull)\n",
    "            crossSectionArea[k] -= ((abs(Y1[j])-abs(Y1[j+1]))*abs(Z1[j]-Z1[j+1]) + (abs(Y2[j])-abs(Y2[j+1]))*abs(Z2[j]-Z2[j+1])) / 2\n",
    "            volume += abs(X1_value - X2_value)*(area1 + area2)/2\n",
    "        # triangle piece at the bottom\n",
    "        area1 = abs(Y1[n-1])*abs(Z1[n-1])/2*2\n",
    "        area2 = abs(Y2[n-1])*abs(Z2[n-1])/2*2\n",
    "        # Store the negative area of the inner hull (to be subtracted from outer hull)\n",
    "        crossSectionArea[k] -= (area1 + area2) / 2\n",
    "        volume += abs(X1_value - X2_value)*(area1 + area2)/2\n",
    "\n",
    "    # Append the volume to the array of all station inner hull volumes\n",
    "    vol_in.append(volume)\n",
    "\n",
    "\n",
    "\n",
    "print(vol_in)\n",
    "\n",
    "print(station_no*4)"
   ]
  },
  {
   "cell_type": "code",
   "execution_count": 2,
   "id": "macro-validation",
   "metadata": {},
   "outputs": [],
   "source": [
    "# Outer Hull Volume: Assume station is filled up with concrete\n",
    "station_no = x_out.nunique() # number of stations\n",
    "station = x_out.unique() # location of each station\n",
    "\n",
    "# Array of the outer hull volume of each station\n",
    "vol_out = []\n",
    "\n",
    "printCrossSectionYOut = []\n",
    "printCrossSectionZOut = []\n",
    "printCrossSectionCOMPAREYOut = []\n",
    "printCrossSectionCOMPAREZOut = []\n",
    "\n",
    "# Loop through each station\n",
    "for k in range(0,station_no-1,1):\n",
    "\n",
    "    # Coordinates of points in the outer frame sharing an X-coordinate with the current station\n",
    "    X1_value = station[k]\n",
    "    Y1 = []\n",
    "    Z1 = []\n",
    "\n",
    "    # Coordinates of points in the outer frame sharing an X-coordinate with the next station\n",
    "    X2_value = station[k+1]\n",
    "    Y2 = []\n",
    "    Z2 = []\n",
    "\n",
    "    # Loop through each x coordinate in the inner hull\n",
    "    for i in range(0,len(x_out),1):\n",
    "\n",
    "        # If the coordinate is aligned with the second station on the X-axis, store this XYZ coordinate\n",
    "        if x_out[i] == X1_value:\n",
    "            Y1.append(y_out[i])\n",
    "            Z1.append(z_out[i])\n",
    "            if k == math.floor(station_no-1 / 2):\n",
    "                printCrossSectionYOut.append(y_out[i])\n",
    "                printCrossSectionZOut.append(z_out[i])\n",
    "            # Compare a station dist to middle\n",
    "            # Still x_in - only care about the location at inner hull width\n",
    "            if x_in[i] == 1191.482143:\n",
    "                printCrossSectionCOMPAREYOut.append(y_out[i])\n",
    "                printCrossSectionCOMPAREZOut.append(z_out[i])\n",
    "\n",
    "        # Otherwise, if the coordinate is aligned with the second station on the X-axis, store this XYZ coordinate\n",
    "        elif x_out[i] == X2_value:\n",
    "            Y2.append(y_out[i])\n",
    "            Z2.append(z_out[i])\n",
    "    \n",
    "    # Calculate the volume of this station\n",
    "    volume = 0\n",
    "    # Front of the canoe\n",
    "    if k == 0:\n",
    "        l = abs(max(Y2)-min(Y2))\n",
    "        w = abs(max(Z2)-min(Z2))\n",
    "        h = abs(X2_value - X1_value)\n",
    "        # crossSectionArea[k] += l * w\n",
    "        volume = l*w*h/3\n",
    "    # Back of the canoe\n",
    "    elif k == station_no-2:\n",
    "        l = abs(max(Y1)-min(Y1))\n",
    "        w = abs(max(Z1)-min(Z1))\n",
    "        h = abs(X1_value - X2_value)\n",
    "        # crossSectionArea[k] += l * w\n",
    "        volume = l*w*h/3\n",
    "    # Any other valid station of the canoe\n",
    "    elif len(Y1)/2 != 0:\n",
    "        n = int((len(Y1)-1)/2)\n",
    "        for j in range(0,n,1):\n",
    "            area1 = (abs(Y1[j])+abs(Y1[j+1]))*abs(Z1[j]-Z1[j+1])/2*2\n",
    "            area2 = (abs(Y2[j])+abs(Y2[j+1]))*abs(Z2[j]-Z2[j+1])/2*2\n",
    "            crossSectionArea[k] += ((abs(Y1[j])-abs(Y1[j+1]))*abs(Z1[j]-Z1[j+1]) + (abs(Y2[j])-abs(Y2[j+1]))*abs(Z2[j]-Z2[j+1])) / 2\n",
    "            volume = volume + abs(X1_value - X2_value)*(area1 + area2)/2\n",
    "        # triangle piece at the bottom\n",
    "        area1 = abs(Y1[n-1])*abs(Z1[n-1])/2*2\n",
    "        area2 = abs(Y2[n-1])*abs(Z2[n-1])/2*2\n",
    "        crossSectionArea[k] += (area1 + area2) / 2\n",
    "        volume = volume + abs(X1_value - X2_value)*(area1 + area2)/2\n",
    "\n",
    "    # Append the volume to the array of all station inner hull volumes\n",
    "    vol_out.append(volume)\n"
   ]
  },
  {
   "cell_type": "code",
   "execution_count": 3,
   "id": "8caa9fde",
   "metadata": {},
   "outputs": [
    {
     "data": {
      "image/png": "[encoded data removed]",
      "text/plain": [
       "<Figure size 640x480 with 1 Axes>"
      ]
     },
     "metadata": {},
     "output_type": "display_data"
    }
   ],
   "source": [
    "plt.plot(printCrossSectionYIn, printCrossSectionZIn)\n",
    "plt.plot(printCrossSectionYOut, printCrossSectionZOut)\n",
    "plt.plot(printCrossSectionCOMPAREYIn, printCrossSectionCOMPAREZIn)\n",
    "plt.plot(printCrossSectionCOMPAREYOut, printCrossSectionCOMPAREZOut)\n",
    "plt.title('Cross Section')\n",
    "plt.xlabel('y')\n",
    "plt.ylabel('z')\n",
    "plt.show()\n",
    "\n",
    "# for i in range(len(printCrossSectionYIn)):\n",
    "#     print(printCrossSectionYIn[i] - printCrossSectionYOut[i], printCrossSectionZIn[i] - printCrossSectionZOut[i])"
   ]
  },
  {
   "cell_type": "code",
   "execution_count": 4,
   "id": "earlier-devon",
   "metadata": {},
   "outputs": [
    {
     "name": "stdout",
     "output_type": "stream",
     "text": [
      "The mass of canoe is  55.25776168046627  kg.\n"
     ]
    }
   ],
   "source": [
    "# Volume at each station = outer hull volume - inner hull volume\n",
    "stat_vol = []\n",
    "for i in range(0,len(vol_in),1):\n",
    "    stat_vol.append(vol_out[i] - vol_in[i])\n",
    "\n",
    "# Calculate the mass using the volume at each station\n",
    "canoe_vol = 0\n",
    "stat_mass = []\n",
    "for i in range(0,len(stat_vol),1):\n",
    "    canoe_vol = canoe_vol + stat_vol[i]\n",
    "    stat_mass.append(stat_vol[i]/(10**9)*concrete_density)\n",
    "canoe_m = canoe_vol/(10**9)*concrete_density\n",
    "\n",
    "print('The mass of canoe is ', canoe_m, ' kg.')"
   ]
  },
  {
   "cell_type": "code",
   "execution_count": 5,
   "id": "built-realtor",
   "metadata": {},
   "outputs": [],
   "source": [
    "# Calculate Shear Force for Display Case\n",
    "stand = canoe_m/2 # two stands spaced equally\n",
    "stand_force = [stand, stand]\n",
    "\n",
    "length = max(x_out)\n",
    "stand_po = [length/3, length/3*2]\n",
    "\n",
    "stat_x = []\n",
    "for i in range(0,len(station)-1,1):\n",
    "    stat_x.append((station[i]+station[i+1])/2)\n",
    "\n",
    "# Calculate the shear force\n",
    "g = 9.81\n",
    "x = []\n",
    "shear = []\n",
    "# Loop through the length of the canoe\n",
    "for i in range(0,int(length),1):\n",
    "    # Append the current distance travelled along the length of the canoe onto x\n",
    "    x.append(i)\n",
    "\n",
    "    # Calculate the shear force for this station\n",
    "    shear_force = 0\n",
    "\n",
    "    # Loop through each station\n",
    "    for j in range(0,len(stat_x),1):\n",
    "        # For each station we have moved past along the length of the canoe, subtract it from the shear force\n",
    "        if i >= stat_x[j]:\n",
    "            shear_force += (-1)*stat_mass[j]*g\n",
    "\n",
    "    # Loop through each stand position\n",
    "    for k in range(0,len(stand_po),1):\n",
    "        # For each stand we have moved past along the length of the canoe, add it to the shear force\n",
    "        if i >= stand_po[k]:\n",
    "            shear_force += stand_force[k]*g\n",
    "\n",
    "    # Append the shear force summed at this length along the canoe\n",
    "    shear.append(shear_force)"
   ]
  },
  {
   "cell_type": "code",
   "execution_count": 6,
   "id": "recognized-sector",
   "metadata": {},
   "outputs": [
    {
     "data": {
      "image/png": "[encoded data removed]",
      "text/plain": [
       "<Figure size 640x480 with 1 Axes>"
      ]
     },
     "metadata": {},
     "output_type": "display_data"
    }
   ],
   "source": [
    "# Plot Shear Force Diagram\n",
    "plt.plot(x,shear)\n",
    "plt.title('Shear Force Diagram')\n",
    "plt.xlabel('x (mm)')\n",
    "plt.ylabel('Shear Force (N)')\n",
    "plt.show()\n",
    "\n",
    "distToNextStation = [j-i for i, j in zip(station[:-1], station[1:])]\n",
    "\n",
    "# Track mm distance of station for paddler positions\n",
    "mm_traveled = 0\n",
    "\n",
    "Station_by_length = []\n",
    "\n",
    "for i in range(0, len(station)-1):\n",
    "\n",
    "    delta_mm_traveled = mm_traveled + float(distToNextStation[i])\n",
    "\n",
    "    # Any distance between the distance travlled (rounded) and the new distance travelled (larger due to more paddlers) (also rounded) will be saved. Anything else is discarded\n",
    "    for j in range(round(mm_traveled), round(delta_mm_traveled)):\n",
    "        Station_by_length.append(i)\n",
    "\n",
    "    mm_traveled = delta_mm_traveled\n",
    "\n",
    "\n",
    "# Export points to csv file:\n",
    "df1 = pd.DataFrame(data={'Station': Station_by_length, 'Length': x, 'Shear': shear})\n",
    "\n",
    "csv_file = 'Length_vs_Shear_Display_Stand.csv'\n",
    "script_dir = os.path.abspath('data')\n",
    "file_path = os.path.join(script_dir, csv_file)\n",
    "df1.to_csv(file_path, index=False)"
   ]
  },
  {
   "cell_type": "code",
   "execution_count": 7,
   "id": "linear-finger",
   "metadata": {},
   "outputs": [],
   "source": [
    "# Calculate Bending Moment for Display Case\n",
    "moment = []\n",
    "moment.append(0)\n",
    "bending_moment = 0\n",
    "# Loop through the length of the canoe\n",
    "for i in range(0,len(x)-1,1):\n",
    "    # Calculate bending moment using shear\n",
    "    bending_moment += (x[i+1]-x[i])*shear[i+1]/1000\n",
    "    moment.append(bending_moment)\n",
    "    "
   ]
  },
  {
   "cell_type": "code",
   "execution_count": 8,
   "id": "middle-albuquerque",
   "metadata": {},
   "outputs": [
    {
     "data": {
      "image/png": "[encoded data removed]",
      "text/plain": [
       "<Figure size 640x480 with 1 Axes>"
      ]
     },
     "metadata": {},
     "output_type": "display_data"
    }
   ],
   "source": [
    "# Plot Bending Moment Diagram\n",
    "plt.plot(x,moment)\n",
    "plt.title('Bending Moment Diagram')\n",
    "plt.xlabel('x (mm)')\n",
    "plt.ylabel('Bending Moment (N*m)')\n",
    "plt.show()\n",
    "\n",
    "# Export points to csv file:\n",
    "df1 = pd.DataFrame(data={'Station': Station_by_length, 'Length': x, 'Moment': moment})\n",
    "\n",
    "csv_file = 'Length_vs_Moment_Display_Stand.csv'\n",
    "script_dir = os.path.abspath('data')\n",
    "file_path = os.path.join(script_dir, csv_file)\n",
    "df1.to_csv(file_path, index=False)"
   ]
  },
  {
   "cell_type": "code",
   "execution_count": 9,
   "id": "consistent-oracle",
   "metadata": {},
   "outputs": [],
   "source": [
    "# Export the section volume, section weight, shear force, and bending moment to Station Information\n",
    "stat_weight = []\n",
    "for i in range(0,len(stat_vol),1):\n",
    "    station_weight = stat_mass[i]*g\n",
    "    stat_weight.append(station_weight)\n",
    "\n",
    "stat_no = np.arange(1, len(stat_vol)+1, 1)\n",
    "\n",
    "width = []\n",
    "\n",
    "for k in range(0,len(stat_no)-1,1):\n",
    "    X1_value = station[k]\n",
    "    Y1 = []\n",
    "\n",
    "    for i in range(0,len(x_out),1):\n",
    "        if x_out[i] == X1_value:\n",
    "            Y1.append(y_out[i])\n",
    "\n",
    "    width.append(max(Y1) - min(Y1))\n",
    "\n",
    "width.append(0)\n",
    "\n",
    "df1 = pd.DataFrame(data={'Station Number': stat_no, 'Volume (mm^3)': stat_vol, 'Mass (kg)': stat_mass, 'Weight (N)': stat_weight, 'Distance to Next Station (mm)': distToNextStation, 'Width (mm)': width, 'Cross-Sectional Area (mm^2)': crossSectionArea})\n",
    "df1['Volume (mm^3)'] = df1['Volume (mm^3)']/(10**9)\n",
    "\n",
    "csv_file = 'Station Information.csv'\n",
    "script_dir = os.path.abspath('data')\n",
    "file_path = os.path.join(script_dir, csv_file)\n",
    "df1.to_csv(file_path, index=False)"
   ]
  },
  {
   "cell_type": "code",
   "execution_count": 10,
   "id": "floral-creature",
   "metadata": {},
   "outputs": [
    {
     "data": {
      "text/plain": [
       "147.7426539755383"
      ]
     },
     "execution_count": 10,
     "metadata": {},
     "output_type": "execute_result"
    }
   ],
   "source": [
    "max(shear)"
   ]
  },
  {
   "cell_type": "code",
   "execution_count": 11,
   "id": "emotional-edward",
   "metadata": {},
   "outputs": [
    {
     "data": {
      "text/plain": [
       "-147.74265397553856"
      ]
     },
     "execution_count": 11,
     "metadata": {},
     "output_type": "execute_result"
    }
   ],
   "source": [
    "min(shear)"
   ]
  },
  {
   "cell_type": "code",
   "execution_count": 12,
   "id": "alien-renewal",
   "metadata": {},
   "outputs": [
    {
     "data": {
      "text/plain": [
       "2.3283064365386963e-10"
      ]
     },
     "execution_count": 12,
     "metadata": {},
     "output_type": "execute_result"
    }
   ],
   "source": [
    "np.sum(shear)"
   ]
  },
  {
   "cell_type": "code",
   "execution_count": 13,
   "id": "4fd70e65",
   "metadata": {
    "pycharm": {
     "name": "#%%\n"
    }
   },
   "outputs": [],
   "source": [
    "# Export Display Stand Shear Force and Bending Moment to CSV files\n",
    "titles = ['Positive Shear [N]', 'Negative Shear [N]', 'Positive Bending Moment [Nm]', 'Negative Bending Moment [Nm]', 'Moment at the end [Nm]']\n",
    "values = [max(shear), min(shear), max(moment), min(moment), moment[len(moment)-1]]\n",
    "station_no = []\n",
    "max_width = []\n",
    "max_depth = []\n",
    "station_t = [] # Station thickness\n",
    "\n",
    "for value in [max(shear), min(shear)]:\n",
    "    shear_index = shear.index(value)\n",
    "    xshear = x[shear_index]\n",
    "    for i in range(0,len(station)-1,1):\n",
    "        if (xshear >= station[i] and xshear < station[i+1]):\n",
    "            station_index = i+1\n",
    "\n",
    "    X1_value = station[station_index-1]\n",
    "    X2_value = station[station_index]\n",
    "    Y1 = []\n",
    "    Y2 = []\n",
    "    Z1 = []\n",
    "    Z2 = []        \n",
    "    for i in range(0,len(y_out),1):\n",
    "        if x_out[i] == X1_value:\n",
    "            Y1.append(y_out[i])\n",
    "            Z1.append(z_out[i])\n",
    "        elif x_out[i] == X2_value:\n",
    "            Y2.append(y_out[i])\n",
    "            Z2.append(z_out[i])\n",
    "    width = (max(Y1)-min(Y1)+max(Y2)-min(Y2))/2\n",
    "    depth = (abs(min(Z1))+abs(min(Z2)))/2\n",
    "    max_width.append(width)\n",
    "    max_depth.append(depth)\n",
    "    station_no.append(station_index)\n",
    "    station_t.append(abs(X2_value - X1_value))\n",
    "\n",
    "for value in [max(moment), min(moment)]:\n",
    "    moment_index = moment.index(value)\n",
    "    xmoment = x[moment_index]\n",
    "    for i in range(0,len(station)-1,1):\n",
    "        if (xmoment >= station[i] and xmoment < station[i+1]):\n",
    "            station_index = i+1\n",
    "\n",
    "    X1_value = station[station_index-1]\n",
    "    X2_value = station[station_index]\n",
    "    Y1 = []\n",
    "    Y2 = []\n",
    "    Z1 = []\n",
    "    Z2 = []        \n",
    "    for i in range(0,len(y_out),1):\n",
    "        if x_out[i] == X1_value:\n",
    "            Y1.append(y_out[i])\n",
    "            Z1.append(z_out[i])\n",
    "        elif x_out[i] == X2_value:\n",
    "            Y2.append(y_out[i])\n",
    "            Z2.append(z_out[i])\n",
    "    width = (max(Y1)-min(Y1)+max(Y2)-min(Y2))/2\n",
    "    depth = (abs(min(Z1))+abs(min(Z2)))/2\n",
    "    max_width.append(width)\n",
    "    max_depth.append(depth)\n",
    "    station_no.append(station_index)\n",
    "    station_t.append(abs(X2_value - X1_value))\n",
    "    \n",
    "station_no.append(len(station)-1)  \n",
    "max_width.append('')\n",
    "max_depth.append('')\n",
    "station_t.append('')\n",
    "\n",
    "df1 = pd.DataFrame(data={'': titles, 'Value': values, 'Station No': station_no, 'Max Width [mm]': max_width, 'Max Depth [mm]': max_depth, 'Station Thickness [mm]': station_t})\n",
    "\n",
    "csv_file = 'Shear_and_Moment_Display_Stand.csv'\n",
    "script_dir = os.path.abspath('data')\n",
    "file_path = os.path.join(script_dir, csv_file)\n",
    "df1.to_csv(file_path, index=False)"
   ]
  }
 ],
 "metadata": {
  "kernelspec": {
   "display_name": "Python 3",
   "language": "python",
   "name": "python3"
  },
  "language_info": {
   "codemirror_mode": {
    "name": "ipython",
    "version": 3
   },
   "file_extension": ".py",
   "mimetype": "text/x-python",
   "name": "python",
   "nbconvert_exporter": "python",
   "pygments_lexer": "ipython3",
   "version": "3.10.7"
  }
 },
 "nbformat": 4,
 "nbformat_minor": 5
}
