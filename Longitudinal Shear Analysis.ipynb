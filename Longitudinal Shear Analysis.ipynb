{
 "cells": [
  {
   "cell_type": "code",
   "execution_count": 1,
   "id": "lasting-questionnaire",
   "metadata": {},
   "outputs": [],
   "source": [
    "import os\n",
    "import pandas as pd\n",
    "import numpy as np\n",
    "\n",
    "#-------------------Inputs-------------------------------------------------------------\n",
    "input_file = \"Shear_and_Moment_6 Paddlers.csv\" # or \"Shear_and_Moment_4 Paddlers.csv\" or \"Shear_and_Moment_2 Paddlers.csv\"\n",
    "hf = 25 # [mm]\n",
    "f_c = 10 # [MPa]\n",
    "lamda = 0.75\n",
    "beta = 0.21\n",
    "layer1 = 1 # if layer exists, it equals to 1. Otherwise, zero.\n",
    "layer2 = 0 # if layer exists, it equals to 1. Otherwise, zero.\n",
    "d_mesh_1 = 12.5 # distance b/w the first layer of reinforcement to the surface [mm]\n",
    "d_mesh_2 = 0 # distance b/w the second layer of reinforcement to the surface [mm]\n",
    "#-----------Reinforcement Property-------------\n",
    "fi_s = 0.9 \n",
    "fy = 4347 # [MPa]\n",
    "fi_c = 0.65\n",
    "E_s = 240000 # [MPa]\n",
    "layer_unit_1 = 46 # one lap for layer 1 [mm^2/m]\n",
    "layer_unit_2 = 0 # one lap for layer 2\n",
    "#--------------------------------------------------------------------------------------\n",
    "\n",
    "script_dir = os.path.abspath('')\n",
    "file_path = os.path.join(script_dir, input_file)\n",
    "info = pd.read_csv(file_path, header=None)\n"
   ]
  },
  {
   "cell_type": "code",
   "execution_count": 2,
   "id": "dominant-woman",
   "metadata": {},
   "outputs": [
    {
     "name": "stdout",
     "output_type": "stream",
     "text": [
      "Positive Shear: Vr_max is   46595.294831399704 N.\n",
      "Positive Shear: Vc is   29355.03574378182 N.\n"
     ]
    }
   ],
   "source": [
    "# Positive Shear\n",
    "value = float(info[1][1])\n",
    "width = float(info[3][1])\n",
    "depth = float(info[4][1])\n",
    "bw = float(info[5][1])\n",
    "\n",
    "h = depth\n",
    "\n",
    "if layer2 == 0:\n",
    "    d = depth - hf + d_mesh_1\n",
    "else:\n",
    "    d = depth - hf + (d_mesh_1+d_mesh_2)/2\n",
    "\n",
    "dv = max(0.9*d, 0.72*h)\n",
    "\n",
    "Vr_max = 0.25*fi_c*f_c*bw*dv\n",
    "Vc = fi_c*lamda*beta*(min(f_c,64))*bw*dv\n",
    "\n",
    "print('Positive Shear: Vr_max is  ', Vr_max, 'N.')\n",
    "print('Positive Shear: Vc is  ', Vc, 'N.')\n"
   ]
  },
  {
   "cell_type": "code",
   "execution_count": 3,
   "id": "insured-webcam",
   "metadata": {},
   "outputs": [
    {
     "name": "stdout",
     "output_type": "stream",
     "text": [
      "Negative Shear: Vr_max is   52588.11729796278 N.\n",
      "Negative Shear: Vc is   33130.513897716555 N.\n"
     ]
    }
   ],
   "source": [
    "# Negative Shear\n",
    "value = float(info[1][2])\n",
    "width = float(info[3][2])\n",
    "depth = float(info[4][2])\n",
    "bw = float(info[5][2])\n",
    "\n",
    "h = depth\n",
    "\n",
    "if layer2 == 0:\n",
    "    d = depth - hf + d_mesh_1\n",
    "else:\n",
    "    d = depth - hf + (d_mesh_1+d_mesh_2)/2\n",
    "\n",
    "dv = max(0.9*d, 0.72*h)\n",
    "\n",
    "Vr_max = 0.25*fi_c*f_c*bw*dv\n",
    "Vc = fi_c*lamda*beta*(min(f_c,64))*bw*dv\n",
    "\n",
    "print('Negative Shear: Vr_max is  ', Vr_max, 'N.')\n",
    "print('Negative Shear: Vc is  ', Vc, 'N.')\n"
   ]
  },
  {
   "cell_type": "code",
   "execution_count": null,
   "id": "german-compression",
   "metadata": {},
   "outputs": [],
   "source": []
  }
 ],
 "metadata": {
  "kernelspec": {
   "display_name": "Python 3.11.6 64-bit",
   "language": "python",
   "name": "python3"
  },
  "language_info": {
   "codemirror_mode": {
    "name": "ipython",
    "version": 3
   },
   "file_extension": ".py",
   "mimetype": "text/x-python",
   "name": "python",
   "nbconvert_exporter": "python",
   "pygments_lexer": "ipython3",
   "version": "3.11.6"
  },
  "vscode": {
   "interpreter": {
    "hash": "b0fa6594d8f4cbf19f97940f81e996739fb7646882a419484c72d19e05852a7e"
   }
  }
 },
 "nbformat": 4,
 "nbformat_minor": 5
}
