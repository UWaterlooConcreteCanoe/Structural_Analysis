{
 "cells": [
  {
   "cell_type": "code",
   "execution_count": 1,
   "metadata": {},
   "outputs": [
    {
     "name": "stdout",
     "output_type": "stream",
     "text": [
      "57\n",
      "[   0.        100.892857  201.785714  302.678571  403.571429  504.464286\n",
      "  605.357143  706.25      807.142857  908.035714 1008.928571 1109.821429\n",
      " 1210.714286 1311.607143 1412.5      1513.392857 1614.285714 1715.178571\n",
      " 1816.071429 1916.964286 2017.857143 2118.75     2219.642857 2320.535714\n",
      " 2421.428571 2522.321429 2623.214286 2724.107143 2826.       2925.892857\n",
      " 3026.785714 3127.678571 3228.571429 3329.464286 3430.357143 3531.25\n",
      " 3632.142857 3733.035714 3833.928571 3934.821429 4035.714286 4136.607143\n",
      " 4237.5      4338.392857 4439.285714 4540.178571 4641.071429 4741.964286\n",
      " 4842.857143 4943.75     5044.642857 5145.535714 5246.428571 5347.321429\n",
      " 5448.214286 5549.107143 5650.      ]\n"
     ]
    }
   ],
   "source": [
    "import os\n",
    "import pandas as pd\n",
    "import numpy as np\n",
    "import matplotlib.pyplot as plt\n",
    "\n",
    "# Select the load case\n",
    "input_file = \"Shear_and_Moment_6 Paddlers.csv\" # or \"Shear_and_Moment_2 Paddlers.csv\"\n",
    "\n",
    "script_dir = os.path.abspath('data')\n",
    "file_path = os.path.join(script_dir, input_file)\n",
    "info = pd.read_csv(file_path, header=None)\n",
    "\n",
    "import os\n",
    "import pandas as pd\n",
    "import numpy as np\n",
    "import matplotlib.pyplot as plt\n",
    "import _canoeValues as cv\n",
    "\n",
    "#-------------------Inputs-------------------------------------------------------------\n",
    "script = \"Longitudinal Analysis_6 Paddler.ipynb\"\n",
    "input_file = \"Station Information.csv\"\n",
    "outerHull_file = \"Outer Hull.csv\" # Will be used for hydrostatic force and waterline calculation\n",
    "# DLF = 1.25 # Dead Load Factor\n",
    "# LLF = 1.5 # Live Load Factor\n",
    "# pad_male = 163.28 # Weight of male padder (kg)\n",
    "# pad_female = 68.03 # Weight of female paddler (kg)\n",
    "# water_den = 1000 # Density of water = 1000 kg/m^3\n",
    "#--------------------------------------------------------------------------------------\n",
    "\n",
    "script_dir = os.path.abspath('data')# absolute file path in Jupyter\n",
    "file_path = os.path.join(script_dir, input_file) # file path for the text file input\n",
    "canoe_info = pd.read_csv(file_path, header=None)\n",
    "statVol = canoe_info[1][1:]\n",
    "statMass = canoe_info[2]\n",
    "\n",
    "file_path = os.path.join(script_dir, outerHull_file) # file path for the text file input\n",
    "out_coor = pd.read_csv(file_path, header=None)\n",
    "x_out = out_coor[0]\n",
    "y_out = out_coor[1]\n",
    "z_out = out_coor[2]\n",
    "\n",
    "station_no = x_out.nunique() # number of stations\n",
    "station = x_out.unique() # location of each station\n",
    "\n",
    "print(station_no)\n",
    "print(station)"
   ]
  },
  {
   "cell_type": "code",
   "execution_count": 2,
   "metadata": {},
   "outputs": [
    {
     "name": "stdout",
     "output_type": "stream",
     "text": [
      "[74524.05981866666, 104659.73512533333, 127648.30139733333, 144573.037568, 157374.144, 167378.10824533334, 175477.86752, 182265.2163413333, 188124.15505066665, 193300.5248, 197946.790912, 202157.17742933333, 205990.38122666665, 209479.67027199996, 212647.32569599996, 215507.36017066665, 218069.13280000002, 220342.91643733333, 222336.07918933337, 224056.51106133335, 225512.71714133333, 226714.11191466666, 227671.28541866667, 228396.400896, 228903.97269333331, 229211.84802133334, 229347.301888, 229347.301888, 229211.84802133334, 228903.97269333331, 228396.400896, 227671.28541866667, 226714.11191466666, 225512.71714133333, 224056.51106133335, 222336.07918933337, 220342.91643733333, 218069.13280000002, 215507.36017066665, 212647.32569599996, 209479.67027199996, 205990.38122666665, 202157.17742933333, 197946.790912, 193300.5248, 188124.15505066665, 182265.2163413333, 175477.86752, 167378.10824533334, 157374.144, 144573.037568, 127648.30139733333, 104659.73512533333, 74524.05981866666]\n",
      "[1550100.4442282666, 2176922.4906069334, 2655084.6690645334, 3007119.1814144, 3273382.1952, 3481464.6515029334, 3649939.644416, 3791116.4998997324, 3912982.4250538666, 4020650.9158400004, 4117293.2509696, 4204869.290530133, 4284599.929514666, 4357177.141657599, 4423064.374476799, 4482553.091549867, 4535837.96224, 4583132.661896533, 4624590.447138134, 4660375.430075734, 4690664.516539733, 4715653.527825067, 4735562.736708267, 4750645.1386368, 4761202.632021333, 4767606.438843734, 4770423.8792704, 4770423.8792704, 4767606.438843734, 4761202.632021333, 4750645.1386368, 4735562.736708267, 4715653.527825067, 4690664.516539733, 4660375.430075734, 4624590.447138134, 4583132.661896533, 4535837.96224, 4482553.091549867, 4423064.374476799, 4357177.141657599, 4284599.929514666, 4204869.290530133, 4117293.2509696, 4020650.9158400004, 3912982.4250538666, 3791116.4998997324, 3649939.644416, 3481464.6515029334, 3273382.1952, 3007119.1814144, 2655084.6690645334, 2176922.4906069334, 1550100.4442282666]\n"
     ]
    },
    {
     "data": {
      "image/png": "[encoded data removed]",
      "text/plain": [
       "<Figure size 640x480 with 1 Axes>"
      ]
     },
     "metadata": {},
     "output_type": "display_data"
    }
   ],
   "source": [
    "#Thin Rectangle Torsion Analysis\n",
    "\n",
    "J = []\n",
    "\n",
    "# Loop through stations in outer hull\n",
    "for k in range(1,station_no-2):\n",
    "\n",
    "    # Coordinates of points in the outer frame sharing an X-coordinate with the current station\n",
    "    X1_value = station[k]\n",
    "    Y1 = []\n",
    "    Z1 = []\n",
    "\n",
    "    # Coordinates of points in the outer frame sharing an X-coordinate with the next station\n",
    "    X2_value = station[k+1]\n",
    "    Y2 = []\n",
    "    Z2 = []\n",
    "\n",
    "    # Loop through each x coordinate in the inner hull\n",
    "    for i in range(0,len(x_out),1):\n",
    "\n",
    "        # If the coordinate is aligned with the second station on the X-axis, store this XYZ coordinate\n",
    "        if x_out[i] == X1_value:\n",
    "            Y1.append(y_out[i])\n",
    "            Z1.append(z_out[i])\n",
    "\n",
    "        # Otherwise, if the coordinate is aligned with the second station on the X-axis, store this XYZ coordinate\n",
    "        elif x_out[i] == X2_value:\n",
    "            Y2.append(y_out[i])\n",
    "            Z2.append(z_out[i])\n",
    "\n",
    "    # Now we have the coords of the outer station\n",
    "    stationWidth = abs((max(Y1) + max(Y2))/2 - (min(Y1) + min(Y2))/2)\n",
    "    stationDepth = abs((max(Z1) + max(Z2))/2 - (min(Z1) + min(Z2))/2)\n",
    "    concretethickness = cv.concrete_thickness\n",
    "\n",
    "\n",
    "    #LHS\n",
    "    J_LHS = (stationDepth-concretethickness/2)*(concretethickness**3) # mm^4\n",
    "    #Bottom\n",
    "    J_Bottom = (stationWidth-concretethickness)*(concretethickness**3) # mm^4\n",
    "    #RHS\n",
    "    J_RHS = (stationDepth-concretethickness/2)*(concretethickness**3) # mm^4\n",
    "\n",
    "    #Polar Moment of Inertia\n",
    "    J.append((1/3)*(J_LHS+J_Bottom+J_RHS)) #mm^4\n",
    "\n",
    "print(J)\n",
    "\n",
    "T = [0, 0, 0, 0, 0, 0, 0, 0, 0, 0, 0, 0, 0, 0, 0, 0, 0, 0, 630986.8465689991, 630986.8465689991, 630986.8465689991, 630986.8465689991, 630986.8465689991, 630986.8465689991, 630986.8465689991, 630986.8465689991, 630986.8465689991, 630986.8465689991, 630986.8465689991, 630986.8465689991, 630986.8465689991, 630986.8465689991, 630986.8465689991, 630986.8465689991, 630986.8465689991, 630986.8465689991, 630986.8465689991, 630986.8465689991, 630986.8465689991, 630986.8465689991, 630986.8465689991, 630986.8465689991, 630986.8465689991, 630986.8465689991, 630986.8465689991, 630986.8465689991, 630986.8465689991, 0, 0, 0, 0, 0, 0, 0, 0, 0]\n",
    "\n",
    "torsionalStress = []\n",
    "for i in range(1, station_no-2, 1):\n",
    "    torsionalStress.append(T[i]/J[i-1] * concretethickness) # (N*mm / mm^4) * mm => N/mm^2\n",
    "\n",
    "T_max_station = [0.2 * cv.compressive_strength * x * concretethickness for x in J] # N/mm^2 * mm^4 * mm = N*mm^3\n",
    "print(T_max_station)\n",
    "\n",
    "plt.plot(range(len(T_max_station)), T_max_station)\n",
    "plt.title('')\n",
    "plt.xlabel('')\n",
    "plt.ylabel('')\n",
    "plt.show()\n",
    "\n",
    "# plt.plot(range(len(torsionalStress)), torsionalStress)\n",
    "# plt.title('')\n",
    "# plt.xlabel('x (stations)')\n",
    "# plt.ylabel('(N/mm^2 = MPa)')\n",
    "# plt.show()"
   ]
  },
  {
   "cell_type": "markdown",
   "metadata": {},
   "source": [
    "# This script just prints values calculated in the load case script"
   ]
  },
  {
   "cell_type": "code",
   "execution_count": 3,
   "metadata": {},
   "outputs": [
    {
     "name": "stdout",
     "output_type": "stream",
     "text": [
      "Tortional Resistance: 408.7726545008133 Nm\n",
      "533.75004\n"
     ]
    }
   ],
   "source": [
    "# Positive Shear\n",
    "value = float(info[1][1])\n",
    "width = float(info[3][1])\n",
    "\n",
    "torsion_resistance_positive = value * width/1000 # Nm\n",
    "print(\"Tortional Resistance: \" + str(torsion_resistance_positive) + \" Nm\")\n",
    "print(width)"
   ]
  },
  {
   "cell_type": "code",
   "execution_count": 4,
   "metadata": {},
   "outputs": [
    {
     "name": "stdout",
     "output_type": "stream",
     "text": [
      "Tortional Resistance: -408.772654500813 Nm\n",
      "533.75004\n"
     ]
    }
   ],
   "source": [
    "# Negative Shear\n",
    "value = float(info[1][2])\n",
    "width = float(info[3][2])\n",
    "\n",
    "torsion_resistance_negative = value * width/1000 # Nm\n",
    "print(\"Tortional Resistance: \" + str(torsion_resistance_negative) + \" Nm\")\n",
    "print(width)"
   ]
  }
 ],
 "metadata": {
  "kernelspec": {
   "display_name": "Python 3",
   "language": "python",
   "name": "python3"
  },
  "language_info": {
   "codemirror_mode": {
    "name": "ipython",
    "version": 3
   },
   "file_extension": ".py",
   "mimetype": "text/x-python",
   "name": "python",
   "nbconvert_exporter": "python",
   "pygments_lexer": "ipython3",
   "version": "3.9.6"
  }
 },
 "nbformat": 4,
 "nbformat_minor": 2
}
