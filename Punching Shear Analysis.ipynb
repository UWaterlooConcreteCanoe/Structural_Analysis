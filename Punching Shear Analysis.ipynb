{
 "cells": [
  {
   "cell_type": "markdown",
   "id": "c9557985",
   "metadata": {},
   "source": [
    "# Find minimum f_c required to pass"
   ]
  },
  {
   "cell_type": "code",
   "execution_count": 1,
   "id": "played-river",
   "metadata": {},
   "outputs": [
    {
     "name": "stdout",
     "output_type": "stream",
     "text": [
      "8\n",
      "The design is good for punching shear.\n",
      "The minimum value of f_c required is 10.5 MPa\n",
      "\n",
      "\n",
      "\n",
      " 0.9478083271421497\n",
      "0.5180262753518301\n",
      "0.6002786071900281\n",
      "232\n",
      "961.06608\n"
     ]
    }
   ],
   "source": [
    "import os\n",
    "import pandas as pd\n",
    "import numpy as np\n",
    "import _canoeValues as cv\n",
    "\n",
    "\"\"\"\n",
    "\n",
    "Ask Trevor how to incorporate reinforcement strength in punching shear calculation\n",
    "\n",
    "\"\"\"\n",
    "\n",
    "#-------------------Inputs-------------------------------------------------------------\n",
    "paddler_mass = cv.pad_male # Max paddler mass [kg]\n",
    "g = cv.g # Gravity [m/s^2]\n",
    "paddler_weight = paddler_mass*g # Max paddler weight [N]\n",
    "safety_factor = cv.safety_factor\n",
    "fac_weight = safety_factor*paddler_weight # Factored Weight [N]\n",
    "A = cv.kneecap_length # Punching area length [mm]\n",
    "B = cv.kneecap_width # Punching area width [mm]\n",
    "layer1 = cv.hasLayer1 # if layer exists, it equals to 1. Otherwise, zero.\n",
    "layer2 = cv.hasLayer2 # if layer exists, it equals to 1. Otherwise, zero.\n",
    "d_mesh_1 = cv.d_mesh_1 # distance b/w the first layer of reinforcement to the compression surface [mm] (distance from where force is applied)\n",
    "d_mesh_2 = cv.d_mesh_2 # distance b/w the second layer of reinforcement to the compression surface [mm] (distance from where force is applied)\n",
    "# f_c = cv.compressive_strength # Compressive strength of concrete [MPa] (TODO: try tensile)\n",
    "lamda = cv.lamda # Factor to account for lower tensile strength of low-density concrete\n",
    "phi_c = cv.phi_c # Safety factor for concrete\n",
    "alpha_s = cv.alpha_s # As per CSA A23.3-14 CL 13.3.4.1 (13-7)\n",
    "#--------------------------------------------------------------------------------------\n",
    "\n",
    "print(cv.d_mesh_1)\n",
    "\n",
    "for k in range(0, 10000):\n",
    "\n",
    "    f_c = k/10\n",
    "\n",
    "    # Set d to the midpoint between all the layers of reinforcement if they exist\n",
    "    # (assumes all layers of reinforcement are in the tension zone)\n",
    "    # NOTE: put punching shear reinforcement in tension zone or failure will occur\n",
    "    if layer2 == 0:\n",
    "        d = d_mesh_1\n",
    "    else:\n",
    "        d = (d_mesh_1+d_mesh_2)/2\n",
    "\n",
    "    # Calculate the area\n",
    "    # Perimeter of punching area on tension side\n",
    "    # Considered a rect: Side 1: (A + d) Side 2: (B + d)\n",
    "    b0 = 2*A + 2*B + 4*d # [mm]\n",
    "    area = d*b0 # [mm^2]\n",
    "\n",
    "    # Ratio of long side (A) to short side (B) of a column section\n",
    "    beta_c = A/B\n",
    "    if beta_c<1:\n",
    "        print('Warning: Beta_c is smaller than one.')\n",
    "\n",
    "    # Shear stresses resisted\n",
    "    Vc_1 = (1+2/beta_c)*0.2*lamda*phi_c*np.sqrt(f_c)    \n",
    "    Vc_2 = ((alpha_s*d/b0)+0.19)*lamda*phi_c*np.sqrt(f_c)\n",
    "    Vc_3 = 0.38*lamda*phi_c*np.sqrt(f_c)\n",
    "    Vc = min(Vc_1, Vc_2, Vc_3)\n",
    "\n",
    "    # Shear stresses applied\n",
    "    Vf = fac_weight/area\n",
    "\n",
    "    if Vc>=Vf:\n",
    "        print('The design is good for punching shear.')\n",
    "        print('The minimum value of f_c required is ' + str(f_c) + \" MPa\")\n",
    "        break\n",
    "    else:\n",
    "        continue\n",
    "        # print('The design needs to be re-done for punching shear.')\n",
    "\n",
    "print(\"\\n\\n\\n\", str(Vc_1))\n",
    "print(str(Vc_2))\n",
    "print(str(Vc_3))\n",
    "print(str(b0))\n",
    "print(fac_weight)"
   ]
  },
  {
   "cell_type": "markdown",
   "id": "944ad831",
   "metadata": {},
   "source": [
    "# Determine if current mix passes"
   ]
  },
  {
   "cell_type": "code",
   "execution_count": 2,
   "id": "emerging-rhythm",
   "metadata": {},
   "outputs": [
    {
     "name": "stdout",
     "output_type": "stream",
     "text": [
      "Vc: 0.5302167967650493\n",
      "Vf: 0.517815775862069\n",
      "The design is good for punching shear.\n",
      "1856\n"
     ]
    }
   ],
   "source": [
    "# INPUT\n",
    "f_c = cv.compressive_strength\n",
    "# -------------------------------------------------------------------------------------------\n",
    "\n",
    "# Set d to the midpoint between all the layers of reinforcement if they exist\n",
    "# (assumes all layers of reinforcement are in the tension zone)\n",
    "# NOTE: put punching shear reinforcement in tension zone or failure will occur\n",
    "if layer2 == 0:\n",
    "    d = d_mesh_1\n",
    "else:\n",
    "    d = (d_mesh_1+d_mesh_2)/2\n",
    "\n",
    "# Calculate the area\n",
    "# Perimeter of punching area on tension side\n",
    "# Considered a rect: Side 1: (A + d) Side 2: (B + d)\n",
    "b0 = 2*A + 2*B + 4*d # [mm]\n",
    "area = d*b0 # [mm^2]\n",
    "\n",
    "# Ratio of long side (A) to short side (B) of a column section\n",
    "beta_c = A/B\n",
    "if beta_c<1:\n",
    "    print('Warning: Beta_c is smaller than one.')\n",
    "\n",
    "# Shear stresses resisted\n",
    "Vc_1 = (1+2/beta_c)*0.2*lamda*phi_c*np.sqrt(f_c)    \n",
    "Vc_2 = ((alpha_s*d/b0)+0.19)*lamda*phi_c*np.sqrt(f_c)\n",
    "Vc_3 = 0.38*lamda*phi_c*np.sqrt(f_c)\n",
    "Vc = min(Vc_1, Vc_2, Vc_3)\n",
    "\n",
    "# Shear stresses applied\n",
    "Vf = fac_weight/area\n",
    "\n",
    "print(\"Vc: \" + str(Vc))\n",
    "print(\"Vf: \" + str(Vf))\n",
    "\n",
    "\n",
    "if Vc>=Vf:\n",
    "    print('The design is good for punching shear.')\n",
    "else:\n",
    "    print('The design needs to be re-done for punching shear.')\n",
    "print(str(area))"
   ]
  },
  {
   "cell_type": "markdown",
   "id": "620c820a",
   "metadata": {},
   "source": [
    "# Honestly unsure why this last part exists anymore"
   ]
  },
  {
   "cell_type": "code",
   "execution_count": 3,
   "id": "7c7bd7b8",
   "metadata": {},
   "outputs": [
    {
     "name": "stdout",
     "output_type": "stream",
     "text": [
      "Vc: 0.5302167967650493\n",
      "Vf: 1.035631551724138\n",
      "The design needs to be re-done for punching shear.\n"
     ]
    }
   ],
   "source": [
    "# INPUT\n",
    "f_c = cv.compressive_strength\n",
    "fac_weight = safety_factor*(paddler_weight*2) # Factored Weight [N]\n",
    "# -------------------------------------------------------------------------------------------\n",
    "\n",
    "# Set d to the midpoint between all the layers of reinforcement if they exist\n",
    "# (assumes all layers of reinforcement are in the tension zone)\n",
    "# NOTE: put punching shear reinforcement in tension zone or failure will occur\n",
    "if layer2 == 0:\n",
    "    d = d_mesh_1\n",
    "else:\n",
    "    d = (d_mesh_1+d_mesh_2)/2\n",
    "\n",
    "# Calculate the area\n",
    "# Perimeter of punching area on tension side\n",
    "# Considered a rect: Side 1: (A + d) Side 2: (B + d)\n",
    "b0 = 2*A + 2*B + 4*d # [mm]\n",
    "area = d*b0 # [mm^2]\n",
    "\n",
    "# Ratio of long side (A) to short side (B) of a column section\n",
    "beta_c = A/B\n",
    "if beta_c<1:\n",
    "    print('Warning: Beta_c is smaller than one.')\n",
    "\n",
    "# Shear stresses resisted\n",
    "Vc_1 = (1+2/beta_c)*0.2*lamda*phi_c*np.sqrt(f_c)    \n",
    "Vc_2 = ((alpha_s*d/b0)+0.19)*lamda*phi_c*np.sqrt(f_c)\n",
    "Vc_3 = 0.38*lamda*phi_c*np.sqrt(f_c)\n",
    "Vc = min(Vc_1, Vc_2, Vc_3)\n",
    "\n",
    "# Shear stresses applied\n",
    "Vf = fac_weight/area\n",
    "\n",
    "print(\"Vc: \" + str(Vc))\n",
    "print(\"Vf: \" + str(Vf))\n",
    "\n",
    "\n",
    "if Vc>=Vf:\n",
    "    print('The design is good for punching shear.')\n",
    "else:\n",
    "    print('The design needs to be re-done for punching shear.')\n"
   ]
  }
 ],
 "metadata": {
  "kernelspec": {
   "display_name": "Python 3.11.6 64-bit",
   "language": "python",
   "name": "python3"
  },
  "language_info": {
   "codemirror_mode": {
    "name": "ipython",
    "version": 3
   },
   "file_extension": ".py",
   "mimetype": "text/x-python",
   "name": "python",
   "nbconvert_exporter": "python",
   "pygments_lexer": "ipython3",
   "version": "3.9.6"
  },
  "vscode": {
   "interpreter": {
    "hash": "b0fa6594d8f4cbf19f97940f81e996739fb7646882a419484c72d19e05852a7e"
   }
  }
 },
 "nbformat": 4,
 "nbformat_minor": 5
}
