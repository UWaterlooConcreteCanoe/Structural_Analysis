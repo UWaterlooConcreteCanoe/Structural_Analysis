{
 "cells": [
  {
   "cell_type": "code",
   "execution_count": null,
   "metadata": {},
   "outputs": [],
   "source": [
    "import os\n",
    "import pandas as pd\n",
    "import numpy as np\n",
    "import matplotlib.pyplot as plt\n",
    "import _canoeValues as cv\n",
    "\n",
    "#Pseudocode: \n",
    "#Inputs: Person weight, Self weight of canoe from both bottom and top sides, buoancy force\n",
    "paddler_mass = cv.pad_male # Max paddler mass [kg]\n",
    "paddler_weight = paddler_mass*g # Max paddler weight [N]\n",
    "c_weight1 = # weight of bottom part of the canoe \n",
    "c_weight2 = # weight of side of the canoe\n",
    "f_b = #buouancy force\n",
    "\n",
    "t_Shear = c_weight1 + paddler_weight + c_weight2 - f_b # transverse shear"
   ]
  }
 ],
 "metadata": {
  "language_info": {
   "name": "python"
  }
 },
 "nbformat": 4,
 "nbformat_minor": 2
}
